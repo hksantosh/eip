{
  "nbformat": 4,
  "nbformat_minor": 0,
  "metadata": {
    "colab": {
      "name": "EIGHTH.ipynb",
      "provenance": [],
      "collapsed_sections": [],
      "machine_shape": "hm",
      "include_colab_link": true
    },
    "kernelspec": {
      "name": "python3",
      "display_name": "Python 3"
    },
    "accelerator": "GPU"
  },
  "cells": [
    {
      "cell_type": "markdown",
      "metadata": {
        "id": "view-in-github",
        "colab_type": "text"
      },
      "source": [
        "<a href=\"https://colab.research.google.com/github/hksantosh/eip/blob/master/week2/ninth.ipynb\" target=\"_parent\"><img src=\"https://colab.research.google.com/assets/colab-badge.svg\" alt=\"Open In Colab\"/></a>"
      ]
    },
    {
      "cell_type": "code",
      "metadata": {
        "id": "F8_Uzkut1Jby",
        "colab_type": "code",
        "colab": {
          "base_uri": "https://localhost:8080/",
          "height": 34
        },
        "outputId": "becca1c3-f4fa-4815-b71e-206b4f00f2dd"
      },
      "source": [
        "%tensorflow_version 2.x\n",
        "import tensorflow as tf\n",
        "print(tf.__version__)"
      ],
      "execution_count": 193,
      "outputs": [
        {
          "output_type": "stream",
          "text": [
            "2.0.0\n"
          ],
          "name": "stdout"
        }
      ]
    },
    {
      "cell_type": "code",
      "metadata": {
        "id": "0SJyVpgSxHt4",
        "colab_type": "code",
        "colab": {}
      },
      "source": [
        "import numpy as np\n",
        "\n",
        "from tensorflow.keras import models\n",
        "from tensorflow.keras.models import Sequential\n",
        "from tensorflow.keras.layers import Dense, Dropout, Activation, Flatten, Add, BatchNormalization\n",
        "from tensorflow.keras.layers import Convolution2D, MaxPooling2D\n",
        "from tensorflow.keras import utils\n",
        "\n",
        "from tensorflow.keras.datasets import mnist\n",
        "\n",
        "from tensorflow.keras.layers import Activation\n",
        "from tensorflow.keras.optimizers import Adam\n",
        "from tensorflow.keras.callbacks import ModelCheckpoint, LearningRateScheduler\n"
      ],
      "execution_count": 0,
      "outputs": []
    },
    {
      "cell_type": "code",
      "metadata": {
        "id": "YlEUplvoxKAT",
        "colab_type": "code",
        "colab": {}
      },
      "source": [
        "(X_train, y_train), (X_test, y_test) = mnist.load_data()\n"
      ],
      "execution_count": 0,
      "outputs": []
    },
    {
      "cell_type": "code",
      "metadata": {
        "id": "I6Y9Va-xxMXG",
        "colab_type": "code",
        "outputId": "93cfaec4-664a-443b-8a91-670a776fb4f0",
        "colab": {
          "base_uri": "https://localhost:8080/",
          "height": 299
        }
      },
      "source": [
        "print (X_train.shape)\n",
        "from matplotlib import pyplot as plt\n",
        "%matplotlib inline\n",
        "plt.imshow(X_train[1])"
      ],
      "execution_count": 196,
      "outputs": [
        {
          "output_type": "stream",
          "text": [
            "(60000, 28, 28)\n"
          ],
          "name": "stdout"
        },
        {
          "output_type": "execute_result",
          "data": {
            "text/plain": [
              "<matplotlib.image.AxesImage at 0x7f303749f198>"
            ]
          },
          "metadata": {
            "tags": []
          },
          "execution_count": 196
        },
        {
          "output_type": "display_data",
          "data": {
            "image/png": "[encoded data removed]",
            "text/plain": [
              "<Figure size 432x288 with 1 Axes>"
            ]
          },
          "metadata": {
            "tags": []
          }
        }
      ]
    },
    {
      "cell_type": "code",
      "metadata": {
        "id": "lxDZxPhhxOgO",
        "colab_type": "code",
        "colab": {}
      },
      "source": [
        "X_train = X_train.reshape(X_train.shape[0], 28, 28,1)\n",
        "X_test = X_test.reshape(X_test.shape[0], 28, 28,1)"
      ],
      "execution_count": 0,
      "outputs": []
    },
    {
      "cell_type": "code",
      "metadata": {
        "id": "3HzMqbTnxQQW",
        "colab_type": "code",
        "colab": {}
      },
      "source": [
        "X_train = X_train.astype('float32')\n",
        "X_test = X_test.astype('float32')\n",
        "X_train /= 255\n",
        "X_test /= 255"
      ],
      "execution_count": 0,
      "outputs": []
    },
    {
      "cell_type": "code",
      "metadata": {
        "id": "7LdYiW6ixR9e",
        "colab_type": "code",
        "colab": {}
      },
      "source": [
        "y_train[:10]\n",
        "Y_train = utils.to_categorical(y_train, 10)\n",
        "Y_test = utils.to_categorical(y_test, 10)"
      ],
      "execution_count": 0,
      "outputs": []
    },
    {
      "cell_type": "code",
      "metadata": {
        "id": "rFR0F9j0xVp2",
        "colab_type": "code",
        "outputId": "5b3b584f-fe32-4a5f-b6b6-6654e9c5aed7",
        "colab": {
          "base_uri": "https://localhost:8080/",
          "height": 187
        }
      },
      "source": [
        "Y_train[:10]"
      ],
      "execution_count": 200,
      "outputs": [
        {
          "output_type": "execute_result",
          "data": {
            "text/plain": [
              "array([[0., 0., 0., 0., 0., 1., 0., 0., 0., 0.],\n",
              "       [1., 0., 0., 0., 0., 0., 0., 0., 0., 0.],\n",
              "       [0., 0., 0., 0., 1., 0., 0., 0., 0., 0.],\n",
              "       [0., 1., 0., 0., 0., 0., 0., 0., 0., 0.],\n",
              "       [0., 0., 0., 0., 0., 0., 0., 0., 0., 1.],\n",
              "       [0., 0., 1., 0., 0., 0., 0., 0., 0., 0.],\n",
              "       [0., 1., 0., 0., 0., 0., 0., 0., 0., 0.],\n",
              "       [0., 0., 0., 1., 0., 0., 0., 0., 0., 0.],\n",
              "       [0., 1., 0., 0., 0., 0., 0., 0., 0., 0.],\n",
              "       [0., 0., 0., 0., 1., 0., 0., 0., 0., 0.]], dtype=float32)"
            ]
          },
          "metadata": {
            "tags": []
          },
          "execution_count": 200
        }
      ]
    },
    {
      "cell_type": "code",
      "metadata": {
        "id": "mDpXf4YQxXRm",
        "colab_type": "code",
        "outputId": "ed780302-ddcc-420f-d759-090e07323b4f",
        "colab": {
          "base_uri": "https://localhost:8080/",
          "height": 867
        }
      },
      "source": [
        "model = Sequential()\n",
        " \n",
        "model.add(Convolution2D(16, 3, activation='relu', input_shape=(28,28,1), use_bias=False)) #26\n",
        "model.add(BatchNormalization())\n",
        "model.add(Dropout(0.1))\n",
        "\n",
        "model.add(Convolution2D(32, 3, activation='relu', use_bias=False)) #24\n",
        "model.add(BatchNormalization())\n",
        "model.add(Dropout(0.1))\n",
        "\n",
        "model.add(Convolution2D(10, 1, activation='relu', use_bias=False)) #24\n",
        "model.add(MaxPooling2D(pool_size=(2, 2)))#12\n",
        "\n",
        "model.add(Convolution2D(32, 3, activation='relu', use_bias=False)) #10\n",
        "model.add(BatchNormalization())\n",
        "model.add(Dropout(0.1))\n",
        "\n",
        "#model.add(Convolution2D(16, 3, activation='relu', use_bias=False)) #20\n",
        "#model.add(BatchNormalization())\n",
        "#model.add(Dropout(0.1))\n",
        "\n",
        "model.add(Convolution2D(10, 1, activation='relu', use_bias=False))  #10\n",
        "model.add(MaxPooling2D(pool_size=(2, 2)))  #5\n",
        "\n",
        "model.add(Convolution2D(32, 3, activation='relu', use_bias=False)) #3\n",
        "model.add(BatchNormalization())\n",
        "model.add(Dropout(0.1))\n",
        "\n",
        "#model.add(Convolution2D(32, 3, activation='relu', use_bias=False)) #3\n",
        "#model.add(BatchNormalization())\n",
        "#model.add(Dropout(0.1))\n",
        "\n",
        "model.add(Convolution2D(10, 3, activation='relu', use_bias=False)) #1\n",
        "model.add(BatchNormalization())\n",
        "model.add(Dropout(0.1))\n",
        "\n",
        "model.add(Flatten())\n",
        "model.add(Activation('softmax'))\n",
        "\n",
        "model.summary()"
      ],
      "execution_count": 201,
      "outputs": [
        {
          "output_type": "stream",
          "text": [
            "Model: \"sequential_43\"\n",
            "_________________________________________________________________\n",
            "Layer (type)                 Output Shape              Param #   \n",
            "=================================================================\n",
            "conv2d_291 (Conv2D)          (None, 26, 26, 16)        144       \n",
            "_________________________________________________________________\n",
            "batch_normalization_215 (Bat (None, 26, 26, 16)        64        \n",
            "_________________________________________________________________\n",
            "dropout_215 (Dropout)        (None, 26, 26, 16)        0         \n",
            "_________________________________________________________________\n",
            "conv2d_292 (Conv2D)          (None, 24, 24, 32)        4608      \n",
            "_________________________________________________________________\n",
            "batch_normalization_216 (Bat (None, 24, 24, 32)        128       \n",
            "_________________________________________________________________\n",
            "dropout_216 (Dropout)        (None, 24, 24, 32)        0         \n",
            "_________________________________________________________________\n",
            "conv2d_293 (Conv2D)          (None, 24, 24, 10)        320       \n",
            "_________________________________________________________________\n",
            "max_pooling2d_74 (MaxPooling (None, 12, 12, 10)        0         \n",
            "_________________________________________________________________\n",
            "conv2d_294 (Conv2D)          (None, 10, 10, 32)        2880      \n",
            "_________________________________________________________________\n",
            "batch_normalization_217 (Bat (None, 10, 10, 32)        128       \n",
            "_________________________________________________________________\n",
            "dropout_217 (Dropout)        (None, 10, 10, 32)        0         \n",
            "_________________________________________________________________\n",
            "conv2d_295 (Conv2D)          (None, 10, 10, 10)        320       \n",
            "_________________________________________________________________\n",
            "max_pooling2d_75 (MaxPooling (None, 5, 5, 10)          0         \n",
            "_________________________________________________________________\n",
            "conv2d_296 (Conv2D)          (None, 3, 3, 32)          2880      \n",
            "_________________________________________________________________\n",
            "batch_normalization_218 (Bat (None, 3, 3, 32)          128       \n",
            "_________________________________________________________________\n",
            "dropout_218 (Dropout)        (None, 3, 3, 32)          0         \n",
            "_________________________________________________________________\n",
            "conv2d_297 (Conv2D)          (None, 1, 1, 10)          2880      \n",
            "_________________________________________________________________\n",
            "batch_normalization_219 (Bat (None, 1, 1, 10)          40        \n",
            "_________________________________________________________________\n",
            "dropout_219 (Dropout)        (None, 1, 1, 10)          0         \n",
            "_________________________________________________________________\n",
            "flatten_40 (Flatten)         (None, 10)                0         \n",
            "_________________________________________________________________\n",
            "activation_40 (Activation)   (None, 10)                0         \n",
            "=================================================================\n",
            "Total params: 14,520\n",
            "Trainable params: 14,276\n",
            "Non-trainable params: 244\n",
            "_________________________________________________________________\n"
          ],
          "name": "stdout"
        }
      ]
    },
    {
      "cell_type": "code",
      "metadata": {
        "id": "L2IicGJ4x3Be",
        "colab_type": "code",
        "outputId": "ed666bcc-53b5-432c-e528-79b6f69dfc62",
        "colab": {
          "base_uri": "https://localhost:8080/",
          "height": 1000
        }
      },
      "source": [
        "def scheduler(epoch, lr):\n",
        "  return round(0.001 * 1/(1 + 0.319 * epoch), 10)\n",
        "\n",
        "callbacks = [\n",
        "  ModelCheckpoint(filepath='wk2_ninth.h5', save_best_only=True, monitor='val_accuracy', verbose=1),\n",
        "  LearningRateScheduler(scheduler, verbose=1)\n",
        "]\n",
        "\n",
        "model.compile(loss='categorical_crossentropy', optimizer=Adam(lr=0.001), metrics=['accuracy'])\n",
        "model.fit(X_train, Y_train, batch_size=32, epochs=20, verbose=1, validation_data=(X_test, Y_test), callbacks=callbacks)"
      ],
      "execution_count": 202,
      "outputs": [
        {
          "output_type": "stream",
          "text": [
            "Train on 60000 samples, validate on 10000 samples\n",
            "\n",
            "Epoch 00001: LearningRateScheduler reducing learning rate to 0.0015.\n",
            "Epoch 1/20\n",
            "59712/60000 [============================>.] - ETA: 0s - loss: 0.5346 - accuracy: 0.8587\n",
            "Epoch 00001: val_accuracy improved from -inf to 0.98000, saving model to wk2_ninth.h5\n",
            "60000/60000 [==============================] - 11s 184us/sample - loss: 0.5335 - accuracy: 0.8590 - val_loss: 0.1044 - val_accuracy: 0.9800\n",
            "\n",
            "Epoch 00002: LearningRateScheduler reducing learning rate to 0.0011372252.\n",
            "Epoch 2/20\n",
            "59712/60000 [============================>.] - ETA: 0s - loss: 0.3237 - accuracy: 0.9115\n",
            "Epoch 00002: val_accuracy improved from 0.98000 to 0.98330, saving model to wk2_ninth.h5\n",
            "60000/60000 [==============================] - 10s 165us/sample - loss: 0.3232 - accuracy: 0.9115 - val_loss: 0.0745 - val_accuracy: 0.9833\n",
            "\n",
            "Epoch 00003: LearningRateScheduler reducing learning rate to 0.0009157509.\n",
            "Epoch 3/20\n",
            "59744/60000 [============================>.] - ETA: 0s - loss: 0.2681 - accuracy: 0.9219\n",
            "Epoch 00003: val_accuracy did not improve from 0.98330\n",
            "60000/60000 [==============================] - 10s 165us/sample - loss: 0.2680 - accuracy: 0.9220 - val_loss: 0.1128 - val_accuracy: 0.9708\n",
            "\n",
            "Epoch 00004: LearningRateScheduler reducing learning rate to 0.0007664793.\n",
            "Epoch 4/20\n",
            "59904/60000 [============================>.] - ETA: 0s - loss: 0.2453 - accuracy: 0.9259\n",
            "Epoch 00004: val_accuracy improved from 0.98330 to 0.98830, saving model to wk2_ninth.h5\n",
            "60000/60000 [==============================] - 10s 166us/sample - loss: 0.2450 - accuracy: 0.9260 - val_loss: 0.0475 - val_accuracy: 0.9883\n",
            "\n",
            "Epoch 00005: LearningRateScheduler reducing learning rate to 0.000659051.\n",
            "Epoch 5/20\n",
            "59904/60000 [============================>.] - ETA: 0s - loss: 0.2178 - accuracy: 0.9322\n",
            "Epoch 00005: val_accuracy improved from 0.98830 to 0.98880, saving model to wk2_ninth.h5\n",
            "60000/60000 [==============================] - 10s 163us/sample - loss: 0.2178 - accuracy: 0.9322 - val_loss: 0.0448 - val_accuracy: 0.9888\n",
            "\n",
            "Epoch 00006: LearningRateScheduler reducing learning rate to 0.0005780347.\n",
            "Epoch 6/20\n",
            "59872/60000 [============================>.] - ETA: 0s - loss: 0.2151 - accuracy: 0.9315\n",
            "Epoch 00006: val_accuracy improved from 0.98880 to 0.98960, saving model to wk2_ninth.h5\n",
            "60000/60000 [==============================] - 10s 165us/sample - loss: 0.2149 - accuracy: 0.9316 - val_loss: 0.0408 - val_accuracy: 0.9896\n",
            "\n",
            "Epoch 00007: LearningRateScheduler reducing learning rate to 0.0005147563.\n",
            "Epoch 7/20\n",
            "59872/60000 [============================>.] - ETA: 0s - loss: 0.2078 - accuracy: 0.9338\n",
            "Epoch 00007: val_accuracy improved from 0.98960 to 0.99030, saving model to wk2_ninth.h5\n",
            "60000/60000 [==============================] - 10s 163us/sample - loss: 0.2077 - accuracy: 0.9339 - val_loss: 0.0360 - val_accuracy: 0.9903\n",
            "\n",
            "Epoch 00008: LearningRateScheduler reducing learning rate to 0.0004639654.\n",
            "Epoch 8/20\n",
            "59872/60000 [============================>.] - ETA: 0s - loss: 0.1974 - accuracy: 0.9340\n",
            "Epoch 00008: val_accuracy improved from 0.99030 to 0.99110, saving model to wk2_ninth.h5\n",
            "60000/60000 [==============================] - 10s 162us/sample - loss: 0.1975 - accuracy: 0.9340 - val_loss: 0.0335 - val_accuracy: 0.9911\n",
            "\n",
            "Epoch 00009: LearningRateScheduler reducing learning rate to 0.0004222973.\n",
            "Epoch 9/20\n",
            "59744/60000 [============================>.] - ETA: 0s - loss: 0.1921 - accuracy: 0.9362\n",
            "Epoch 00009: val_accuracy improved from 0.99110 to 0.99170, saving model to wk2_ninth.h5\n",
            "60000/60000 [==============================] - 10s 163us/sample - loss: 0.1920 - accuracy: 0.9362 - val_loss: 0.0347 - val_accuracy: 0.9917\n",
            "\n",
            "Epoch 00010: LearningRateScheduler reducing learning rate to 0.0003874968.\n",
            "Epoch 10/20\n",
            "59840/60000 [============================>.] - ETA: 0s - loss: 0.1849 - accuracy: 0.9380\n",
            "Epoch 00010: val_accuracy did not improve from 0.99170\n",
            "60000/60000 [==============================] - 10s 166us/sample - loss: 0.1849 - accuracy: 0.9380 - val_loss: 0.0322 - val_accuracy: 0.9914\n",
            "\n",
            "Epoch 00011: LearningRateScheduler reducing learning rate to 0.0003579952.\n",
            "Epoch 11/20\n",
            "59808/60000 [============================>.] - ETA: 0s - loss: 0.1852 - accuracy: 0.9381\n",
            "Epoch 00011: val_accuracy did not improve from 0.99170\n",
            "60000/60000 [==============================] - 10s 160us/sample - loss: 0.1851 - accuracy: 0.9381 - val_loss: 0.0321 - val_accuracy: 0.9914\n",
            "\n",
            "Epoch 00012: LearningRateScheduler reducing learning rate to 0.000332668.\n",
            "Epoch 12/20\n",
            "59712/60000 [============================>.] - ETA: 0s - loss: 0.1783 - accuracy: 0.9377\n",
            "Epoch 00012: val_accuracy improved from 0.99170 to 0.99200, saving model to wk2_ninth.h5\n",
            "60000/60000 [==============================] - 10s 161us/sample - loss: 0.1781 - accuracy: 0.9377 - val_loss: 0.0316 - val_accuracy: 0.9920\n",
            "\n",
            "Epoch 00013: LearningRateScheduler reducing learning rate to 0.0003106877.\n",
            "Epoch 13/20\n",
            "59648/60000 [============================>.] - ETA: 0s - loss: 0.1761 - accuracy: 0.9388\n",
            "Epoch 00013: val_accuracy improved from 0.99200 to 0.99220, saving model to wk2_ninth.h5\n",
            "60000/60000 [==============================] - 10s 162us/sample - loss: 0.1768 - accuracy: 0.9387 - val_loss: 0.0302 - val_accuracy: 0.9922\n",
            "\n",
            "Epoch 00014: LearningRateScheduler reducing learning rate to 0.0002914319.\n",
            "Epoch 14/20\n",
            "59680/60000 [============================>.] - ETA: 0s - loss: 0.1741 - accuracy: 0.9404\n",
            "Epoch 00014: val_accuracy improved from 0.99220 to 0.99270, saving model to wk2_ninth.h5\n",
            "60000/60000 [==============================] - 10s 160us/sample - loss: 0.1739 - accuracy: 0.9406 - val_loss: 0.0308 - val_accuracy: 0.9927\n",
            "\n",
            "Epoch 00015: LearningRateScheduler reducing learning rate to 0.0002744237.\n",
            "Epoch 15/20\n",
            "59712/60000 [============================>.] - ETA: 0s - loss: 0.1719 - accuracy: 0.9407\n",
            "Epoch 00015: val_accuracy did not improve from 0.99270\n",
            "60000/60000 [==============================] - 10s 160us/sample - loss: 0.1717 - accuracy: 0.9408 - val_loss: 0.0291 - val_accuracy: 0.9927\n",
            "\n",
            "Epoch 00016: LearningRateScheduler reducing learning rate to 0.0002592913.\n",
            "Epoch 16/20\n",
            "59712/60000 [============================>.] - ETA: 0s - loss: 0.1766 - accuracy: 0.9388\n",
            "Epoch 00016: val_accuracy did not improve from 0.99270\n",
            "60000/60000 [==============================] - 10s 160us/sample - loss: 0.1767 - accuracy: 0.9388 - val_loss: 0.0311 - val_accuracy: 0.9919\n",
            "\n",
            "Epoch 00017: LearningRateScheduler reducing learning rate to 0.0002457405.\n",
            "Epoch 17/20\n",
            "59904/60000 [============================>.] - ETA: 0s - loss: 0.1716 - accuracy: 0.9411\n",
            "Epoch 00017: val_accuracy did not improve from 0.99270\n",
            "60000/60000 [==============================] - 9s 158us/sample - loss: 0.1717 - accuracy: 0.9410 - val_loss: 0.0312 - val_accuracy: 0.9924\n",
            "\n",
            "Epoch 00018: LearningRateScheduler reducing learning rate to 0.0002335357.\n",
            "Epoch 18/20\n",
            "59968/60000 [============================>.] - ETA: 0s - loss: 0.1689 - accuracy: 0.9412\n",
            "Epoch 00018: val_accuracy improved from 0.99270 to 0.99340, saving model to wk2_ninth.h5\n",
            "60000/60000 [==============================] - 9s 158us/sample - loss: 0.1689 - accuracy: 0.9412 - val_loss: 0.0275 - val_accuracy: 0.9934\n",
            "\n",
            "Epoch 00019: LearningRateScheduler reducing learning rate to 0.0002224859.\n",
            "Epoch 19/20\n",
            "59712/60000 [============================>.] - ETA: 0s - loss: 0.1740 - accuracy: 0.9408\n",
            "Epoch 00019: val_accuracy did not improve from 0.99340\n",
            "60000/60000 [==============================] - 9s 157us/sample - loss: 0.1743 - accuracy: 0.9409 - val_loss: 0.0287 - val_accuracy: 0.9928\n",
            "\n",
            "Epoch 00020: LearningRateScheduler reducing learning rate to 0.0002124345.\n",
            "Epoch 20/20\n",
            "59776/60000 [============================>.] - ETA: 0s - loss: 0.1661 - accuracy: 0.9413\n",
            "Epoch 00020: val_accuracy did not improve from 0.99340\n",
            "60000/60000 [==============================] - 10s 159us/sample - loss: 0.1661 - accuracy: 0.9413 - val_loss: 0.0260 - val_accuracy: 0.9932\n"
          ],
          "name": "stdout"
        },
        {
          "output_type": "execute_result",
          "data": {
            "text/plain": [
              "<tensorflow.python.keras.callbacks.History at 0x7f302bc3b860>"
            ]
          },
          "metadata": {
            "tags": []
          },
          "execution_count": 202
        }
      ]
    },
    {
      "cell_type": "code",
      "metadata": {
        "id": "WLxlW9ufyQiO",
        "colab_type": "code",
        "colab": {}
      },
      "source": [
        "### Score for the best model\n",
        "score = models.load_model('wk2_ninth.h5').evaluate(X_test, Y_test, verbose=0)\n",
        "print(score)"
      ],
      "execution_count": 0,
      "outputs": []
    },
    {
      "cell_type": "code",
      "metadata": {
        "id": "KRvxdRsM7-FQ",
        "colab_type": "code",
        "colab": {}
      },
      "source": [
        ""
      ],
      "execution_count": 0,
      "outputs": []
    }
  ]
}