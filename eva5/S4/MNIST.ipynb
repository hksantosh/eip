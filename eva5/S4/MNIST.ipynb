{
  "nbformat": 4,
  "nbformat_minor": 0,
  "metadata": {
    "colab": {
      "name": "MNIST.ipynb",
      "provenance": [],
      "include_colab_link": true
    },
    "kernelspec": {
      "name": "python3",
      "display_name": "Python 3"
    },
    "accelerator": "GPU"
  },
  "cells": [
    {
      "cell_type": "markdown",
      "metadata": {
        "id": "view-in-github",
        "colab_type": "text"
      },
      "source": [
        "<a href=\"https://colab.research.google.com/github/hksantosh/tsai/blob/master/eva5/S4/MNIST.ipynb\" target=\"_parent\"><img src=\"https://colab.research.google.com/assets/colab-badge.svg\" alt=\"Open In Colab\"/></a>"
      ]
    },
    {
      "cell_type": "code",
      "metadata": {
        "id": "0m2JWFliFfKT"
      },
      "source": [
        "from __future__ import print_function\n",
        "import torch\n",
        "import torch.nn as nn\n",
        "import torch.nn.functional as F\n",
        "import torch.optim as optim\n",
        "from torchvision import datasets, transforms"
      ],
      "execution_count": 1,
      "outputs": []
    },
    {
      "cell_type": "code",
      "metadata": {
        "id": "h_Cx9q2QFgM7"
      },
      "source": [
        "class Net(nn.Module):\n",
        "  def __init__(self):\n",
        "    super(Net, self).__init__()\n",
        "\n",
        "    # self.conv1 = nn.Conv2d(1, 16, 3, padding=1) #input -? OUtput? RF 3\n",
        "    # self.pool1 = nn.MaxPool2d(2, 2)  # RF 6\n",
        "    self.conv1 = nn.Sequential(\n",
        "      nn.Conv2d(1, 16, 3, padding=1),  # Input: 1x28x28 Output: 16x28x28 RF: 3\n",
        "      nn.ReLU(),\n",
        "      nn.BatchNorm2d(16),\n",
        "      nn.Dropout(0.15),\n",
        "      nn.MaxPool2d(2, 2)  # Input: 16x28x28 Output: 16x14x14 RF: 6\n",
        "    )\n",
        "\n",
        "    # self.conv2 = nn.Conv2d(16, 16, 3, padding=1) # RF 8\n",
        "    # self.conv3 = nn.Conv2d(16, 16, 3, padding=1)  # RF 10\n",
        "    # self.pool2 = nn.MaxPool2d(2, 2)  # RF 20\n",
        "    self.conv2 = nn.Sequential(\n",
        "      nn.Conv2d(16, 16, 3, padding=1),  # Input: 16x14x14 Output: 16x14x14 RF: 8\n",
        "      nn.ReLU(),\n",
        "      nn.BatchNorm2d(16),\n",
        "      nn.Dropout(0.15),\n",
        "      nn.Conv2d(16, 16, 3, padding=1),  # Input: 16x14x14 Output: 16x14x14 RF: 10\n",
        "      nn.ReLU(),\n",
        "      nn.BatchNorm2d(16),\n",
        "      nn.Dropout(0.15),\n",
        "      nn.MaxPool2d(2, 2) # Input: 16x14x14 Output: 16x14x14 RF: 20\n",
        "    )\n",
        "\n",
        "    # self.conv4 = nn.Conv2d(16, 16, 3, padding=1)  # RF 22\n",
        "    # self.conv5 = nn.Conv2d(16, 16, 3)   # RF 24\n",
        "    # self.conv6 = nn.Conv2d(16, 16, 3)   # RF 26\n",
        "    self.conv3 = nn.Sequential(\n",
        "      nn.Conv2d(16, 16, 3, padding=1),  # Input: 16x7x7 Output: 16x7x7 RF: 22\n",
        "      nn.ReLU(),\n",
        "      nn.BatchNorm2d(16),\n",
        "      nn.Dropout(0.15),\n",
        "      nn.Conv2d(16, 16, 3),  # Input: 16x7x7 Output: 16x5x5 RF: 24\n",
        "      nn.ReLU(),\n",
        "      nn.BatchNorm2d(16),\n",
        "      nn.Dropout(0.15),\n",
        "      nn.Conv2d(16, 16, 3),  # Input: 16x5x5 Output: 16x3x3 RF: 26\n",
        "      nn.ReLU(),\n",
        "      nn.BatchNorm2d(16),\n",
        "      nn.Dropout(0.15)\n",
        "    )\n",
        "\n",
        "    # self.conv7 = nn.Conv2d(16, 10, 3)\n",
        "    self.conv4 = nn.Sequential(\n",
        "      nn.Conv2d(16, 10, 3),  # Input: 16x3x3 Output: 10x1x1 RF: 28\n",
        "      nn.ReLU()\n",
        "    )\n",
        "\n",
        "\n",
        "  def forward(self, x):\n",
        "    x = self.conv1(x)\n",
        "    x = self.conv2(x)\n",
        "    x = self.conv3(x)\n",
        "    x = self.conv4(x)\n",
        "    x = x.view(-1, 10)\n",
        "    return F.log_softmax(x)"
      ],
      "execution_count": 2,
      "outputs": []
    },
    {
      "cell_type": "code",
      "metadata": {
        "id": "xdydjYTZFyi3",
        "colab": {
          "base_uri": "https://localhost:8080/"
        },
        "outputId": "16a94ea4-7203-45c1-a241-e74188591098"
      },
      "source": [
        "!pip install torchsummary\n",
        "from torchsummary import summary\n",
        "use_cuda = torch.cuda.is_available()\n",
        "device = torch.device(\"cuda\" if use_cuda else \"cpu\")\n",
        "model = Net().to(device)\n",
        "summary(model, input_size=(1, 28, 28))"
      ],
      "execution_count": 3,
      "outputs": [
        {
          "output_type": "stream",
          "text": [
            "Requirement already satisfied: torchsummary in /usr/local/lib/python3.6/dist-packages (1.5.1)\n",
            "----------------------------------------------------------------\n",
            "        Layer (type)               Output Shape         Param #\n",
            "================================================================\n",
            "            Conv2d-1           [-1, 16, 28, 28]             160\n",
            "              ReLU-2           [-1, 16, 28, 28]               0\n",
            "       BatchNorm2d-3           [-1, 16, 28, 28]              32\n",
            "           Dropout-4           [-1, 16, 28, 28]               0\n",
            "         MaxPool2d-5           [-1, 16, 14, 14]               0\n",
            "            Conv2d-6           [-1, 16, 14, 14]           2,320\n",
            "              ReLU-7           [-1, 16, 14, 14]               0\n",
            "       BatchNorm2d-8           [-1, 16, 14, 14]              32\n",
            "           Dropout-9           [-1, 16, 14, 14]               0\n",
            "           Conv2d-10           [-1, 16, 14, 14]           2,320\n",
            "             ReLU-11           [-1, 16, 14, 14]               0\n",
            "      BatchNorm2d-12           [-1, 16, 14, 14]              32\n",
            "          Dropout-13           [-1, 16, 14, 14]               0\n",
            "        MaxPool2d-14             [-1, 16, 7, 7]               0\n",
            "           Conv2d-15             [-1, 16, 7, 7]           2,320\n",
            "             ReLU-16             [-1, 16, 7, 7]               0\n",
            "      BatchNorm2d-17             [-1, 16, 7, 7]              32\n",
            "          Dropout-18             [-1, 16, 7, 7]               0\n",
            "           Conv2d-19             [-1, 16, 5, 5]           2,320\n",
            "             ReLU-20             [-1, 16, 5, 5]               0\n",
            "      BatchNorm2d-21             [-1, 16, 5, 5]              32\n",
            "          Dropout-22             [-1, 16, 5, 5]               0\n",
            "           Conv2d-23             [-1, 16, 3, 3]           2,320\n",
            "             ReLU-24             [-1, 16, 3, 3]               0\n",
            "      BatchNorm2d-25             [-1, 16, 3, 3]              32\n",
            "          Dropout-26             [-1, 16, 3, 3]               0\n",
            "           Conv2d-27             [-1, 10, 1, 1]           1,450\n",
            "             ReLU-28             [-1, 10, 1, 1]               0\n",
            "================================================================\n",
            "Total params: 13,402\n",
            "Trainable params: 13,402\n",
            "Non-trainable params: 0\n",
            "----------------------------------------------------------------\n",
            "Input size (MB): 0.00\n",
            "Forward/backward pass size (MB): 0.64\n",
            "Params size (MB): 0.05\n",
            "Estimated Total Size (MB): 0.70\n",
            "----------------------------------------------------------------\n"
          ],
          "name": "stdout"
        },
        {
          "output_type": "stream",
          "text": [
            "/usr/local/lib/python3.6/dist-packages/ipykernel_launcher.py:61: UserWarning: Implicit dimension choice for log_softmax has been deprecated. Change the call to include dim=X as an argument.\n"
          ],
          "name": "stderr"
        }
      ]
    },
    {
      "cell_type": "code",
      "metadata": {
        "id": "DqTWLaM5GHgH"
      },
      "source": [
        "\n",
        "\n",
        "torch.manual_seed(1)\n",
        "batch_size = 64\n",
        "\n",
        "kwargs = {'num_workers': 1, 'pin_memory': True} if use_cuda else {}\n",
        "train_loader = torch.utils.data.DataLoader(\n",
        "    datasets.MNIST('../data', train=True, download=True,\n",
        "                    transform=transforms.Compose([\n",
        "                        transforms.ToTensor(),\n",
        "                        transforms.Normalize((0.1307,), (0.3081,))\n",
        "                    ])),\n",
        "    batch_size=batch_size, shuffle=True, **kwargs)\n",
        "test_loader = torch.utils.data.DataLoader(\n",
        "    datasets.MNIST('../data', train=False, transform=transforms.Compose([\n",
        "                        transforms.ToTensor(),\n",
        "                        transforms.Normalize((0.1307,), (0.3081,))\n",
        "                    ])),\n",
        "    batch_size=batch_size, shuffle=True, **kwargs)\n"
      ],
      "execution_count": 4,
      "outputs": []
    },
    {
      "cell_type": "code",
      "metadata": {
        "id": "8fDefDhaFlwH"
      },
      "source": [
        "from tqdm import tqdm\n",
        "def train(model, device, train_loader, optimizer, epoch):\n",
        "    print(f'Epoch #{epoch}')\n",
        "    model.train()\n",
        "    pbar = tqdm(train_loader)\n",
        "    for batch_idx, (data, target) in enumerate(pbar):\n",
        "        data, target = data.to(device), target.to(device)\n",
        "        optimizer.zero_grad()\n",
        "        output = model(data)\n",
        "        loss = F.nll_loss(output, target)\n",
        "        loss.backward()\n",
        "        optimizer.step()\n",
        "        # pbar.set_description(desc= f'loss={loss.item()} batch_id={batch_idx}')\n",
        "\n",
        "\n",
        "def test(model, device, test_loader):\n",
        "    model.eval()\n",
        "    test_loss = 0\n",
        "    correct = 0\n",
        "    with torch.no_grad():\n",
        "        for data, target in test_loader:\n",
        "            data, target = data.to(device), target.to(device)\n",
        "            output = model(data)\n",
        "            test_loss += F.nll_loss(output, target, reduction='sum').item()  # sum up batch loss\n",
        "            pred = output.argmax(dim=1, keepdim=True)  # get the index of the max log-probability\n",
        "            correct += pred.eq(target.view_as(pred)).sum().item()\n",
        "\n",
        "    test_loss /= len(test_loader.dataset)\n",
        "\n",
        "    print('\\nTest set: Average loss: {:.4f}, Accuracy: {}/{} ({:.2f}%)\\n'.format(\n",
        "        test_loss, correct, len(test_loader.dataset),\n",
        "        100. * correct / len(test_loader.dataset)))"
      ],
      "execution_count": 5,
      "outputs": []
    },
    {
      "cell_type": "code",
      "metadata": {
        "id": "MMWbLWO6FuHb",
        "colab": {
          "base_uri": "https://localhost:8080/"
        },
        "outputId": "017fa557-5121-4084-baea-9413df2e3d62"
      },
      "source": [
        "\n",
        "model = Net().to(device)\n",
        "optimizer = optim.SGD(model.parameters(), lr=0.01, momentum=0.9)\n",
        "\n",
        "for epoch in range(1, 21):\n",
        "    train(model, device, train_loader, optimizer, epoch)\n",
        "    test(model, device, test_loader)"
      ],
      "execution_count": 6,
      "outputs": [
        {
          "output_type": "stream",
          "text": [
            "\r  0%|          | 0/938 [00:00<?, ?it/s]"
          ],
          "name": "stderr"
        },
        {
          "output_type": "stream",
          "text": [
            "Epoch #1\n"
          ],
          "name": "stdout"
        },
        {
          "output_type": "stream",
          "text": [
            "/usr/local/lib/python3.6/dist-packages/ipykernel_launcher.py:61: UserWarning: Implicit dimension choice for log_softmax has been deprecated. Change the call to include dim=X as an argument.\n",
            "100%|██████████| 938/938 [00:18<00:00, 50.96it/s]\n",
            "  0%|          | 0/938 [00:00<?, ?it/s]"
          ],
          "name": "stderr"
        },
        {
          "output_type": "stream",
          "text": [
            "\n",
            "Test set: Average loss: 0.0412, Accuracy: 9874/10000 (98.74%)\n",
            "\n",
            "Epoch #2\n"
          ],
          "name": "stdout"
        },
        {
          "output_type": "stream",
          "text": [
            "100%|██████████| 938/938 [00:18<00:00, 50.85it/s]\n",
            "  0%|          | 0/938 [00:00<?, ?it/s]"
          ],
          "name": "stderr"
        },
        {
          "output_type": "stream",
          "text": [
            "\n",
            "Test set: Average loss: 0.0348, Accuracy: 9893/10000 (98.93%)\n",
            "\n",
            "Epoch #3\n"
          ],
          "name": "stdout"
        },
        {
          "output_type": "stream",
          "text": [
            "100%|██████████| 938/938 [00:18<00:00, 50.34it/s]\n",
            "  0%|          | 0/938 [00:00<?, ?it/s]"
          ],
          "name": "stderr"
        },
        {
          "output_type": "stream",
          "text": [
            "\n",
            "Test set: Average loss: 0.0301, Accuracy: 9898/10000 (98.98%)\n",
            "\n",
            "Epoch #4\n"
          ],
          "name": "stdout"
        },
        {
          "output_type": "stream",
          "text": [
            "100%|██████████| 938/938 [00:18<00:00, 50.99it/s]\n",
            "  0%|          | 0/938 [00:00<?, ?it/s]"
          ],
          "name": "stderr"
        },
        {
          "output_type": "stream",
          "text": [
            "\n",
            "Test set: Average loss: 0.0327, Accuracy: 9898/10000 (98.98%)\n",
            "\n",
            "Epoch #5\n"
          ],
          "name": "stdout"
        },
        {
          "output_type": "stream",
          "text": [
            "100%|██████████| 938/938 [00:18<00:00, 50.92it/s]\n",
            "  0%|          | 0/938 [00:00<?, ?it/s]"
          ],
          "name": "stderr"
        },
        {
          "output_type": "stream",
          "text": [
            "\n",
            "Test set: Average loss: 0.0315, Accuracy: 9894/10000 (98.94%)\n",
            "\n",
            "Epoch #6\n"
          ],
          "name": "stdout"
        },
        {
          "output_type": "stream",
          "text": [
            "100%|██████████| 938/938 [00:18<00:00, 49.47it/s]\n",
            "  0%|          | 0/938 [00:00<?, ?it/s]"
          ],
          "name": "stderr"
        },
        {
          "output_type": "stream",
          "text": [
            "\n",
            "Test set: Average loss: 0.0280, Accuracy: 9910/10000 (99.10%)\n",
            "\n",
            "Epoch #7\n"
          ],
          "name": "stdout"
        },
        {
          "output_type": "stream",
          "text": [
            "100%|██████████| 938/938 [00:18<00:00, 50.51it/s]\n",
            "  0%|          | 0/938 [00:00<?, ?it/s]"
          ],
          "name": "stderr"
        },
        {
          "output_type": "stream",
          "text": [
            "\n",
            "Test set: Average loss: 0.0256, Accuracy: 9918/10000 (99.18%)\n",
            "\n",
            "Epoch #8\n"
          ],
          "name": "stdout"
        },
        {
          "output_type": "stream",
          "text": [
            "100%|██████████| 938/938 [00:18<00:00, 50.84it/s]\n",
            "  0%|          | 0/938 [00:00<?, ?it/s]"
          ],
          "name": "stderr"
        },
        {
          "output_type": "stream",
          "text": [
            "\n",
            "Test set: Average loss: 0.0253, Accuracy: 9911/10000 (99.11%)\n",
            "\n",
            "Epoch #9\n"
          ],
          "name": "stdout"
        },
        {
          "output_type": "stream",
          "text": [
            "100%|██████████| 938/938 [00:18<00:00, 50.87it/s]\n",
            "  0%|          | 0/938 [00:00<?, ?it/s]"
          ],
          "name": "stderr"
        },
        {
          "output_type": "stream",
          "text": [
            "\n",
            "Test set: Average loss: 0.0254, Accuracy: 9920/10000 (99.20%)\n",
            "\n",
            "Epoch #10\n"
          ],
          "name": "stdout"
        },
        {
          "output_type": "stream",
          "text": [
            "100%|██████████| 938/938 [00:18<00:00, 49.60it/s]\n",
            "  0%|          | 0/938 [00:00<?, ?it/s]"
          ],
          "name": "stderr"
        },
        {
          "output_type": "stream",
          "text": [
            "\n",
            "Test set: Average loss: 0.0237, Accuracy: 9926/10000 (99.26%)\n",
            "\n",
            "Epoch #11\n"
          ],
          "name": "stdout"
        },
        {
          "output_type": "stream",
          "text": [
            "100%|██████████| 938/938 [00:19<00:00, 48.99it/s]\n",
            "  0%|          | 0/938 [00:00<?, ?it/s]"
          ],
          "name": "stderr"
        },
        {
          "output_type": "stream",
          "text": [
            "\n",
            "Test set: Average loss: 0.0239, Accuracy: 9919/10000 (99.19%)\n",
            "\n",
            "Epoch #12\n"
          ],
          "name": "stdout"
        },
        {
          "output_type": "stream",
          "text": [
            "100%|██████████| 938/938 [00:19<00:00, 48.74it/s]\n",
            "  0%|          | 0/938 [00:00<?, ?it/s]"
          ],
          "name": "stderr"
        },
        {
          "output_type": "stream",
          "text": [
            "\n",
            "Test set: Average loss: 0.0246, Accuracy: 9925/10000 (99.25%)\n",
            "\n",
            "Epoch #13\n"
          ],
          "name": "stdout"
        },
        {
          "output_type": "stream",
          "text": [
            "100%|██████████| 938/938 [00:18<00:00, 49.46it/s]\n",
            "  0%|          | 0/938 [00:00<?, ?it/s]"
          ],
          "name": "stderr"
        },
        {
          "output_type": "stream",
          "text": [
            "\n",
            "Test set: Average loss: 0.0203, Accuracy: 9931/10000 (99.31%)\n",
            "\n",
            "Epoch #14\n"
          ],
          "name": "stdout"
        },
        {
          "output_type": "stream",
          "text": [
            "100%|██████████| 938/938 [00:18<00:00, 49.41it/s]\n",
            "  0%|          | 0/938 [00:00<?, ?it/s]"
          ],
          "name": "stderr"
        },
        {
          "output_type": "stream",
          "text": [
            "\n",
            "Test set: Average loss: 0.0254, Accuracy: 9915/10000 (99.15%)\n",
            "\n",
            "Epoch #15\n"
          ],
          "name": "stdout"
        },
        {
          "output_type": "stream",
          "text": [
            "100%|██████████| 938/938 [00:18<00:00, 49.50it/s]\n",
            "  0%|          | 0/938 [00:00<?, ?it/s]"
          ],
          "name": "stderr"
        },
        {
          "output_type": "stream",
          "text": [
            "\n",
            "Test set: Average loss: 0.0188, Accuracy: 9940/10000 (99.40%)\n",
            "\n",
            "Epoch #16\n"
          ],
          "name": "stdout"
        },
        {
          "output_type": "stream",
          "text": [
            "100%|██████████| 938/938 [00:18<00:00, 50.56it/s]\n",
            "  0%|          | 0/938 [00:00<?, ?it/s]"
          ],
          "name": "stderr"
        },
        {
          "output_type": "stream",
          "text": [
            "\n",
            "Test set: Average loss: 0.0207, Accuracy: 9936/10000 (99.36%)\n",
            "\n",
            "Epoch #17\n"
          ],
          "name": "stdout"
        },
        {
          "output_type": "stream",
          "text": [
            "100%|██████████| 938/938 [00:18<00:00, 50.41it/s]\n",
            "  0%|          | 0/938 [00:00<?, ?it/s]"
          ],
          "name": "stderr"
        },
        {
          "output_type": "stream",
          "text": [
            "\n",
            "Test set: Average loss: 0.0204, Accuracy: 9939/10000 (99.39%)\n",
            "\n",
            "Epoch #18\n"
          ],
          "name": "stdout"
        },
        {
          "output_type": "stream",
          "text": [
            "100%|██████████| 938/938 [00:18<00:00, 50.25it/s]\n",
            "  0%|          | 0/938 [00:00<?, ?it/s]"
          ],
          "name": "stderr"
        },
        {
          "output_type": "stream",
          "text": [
            "\n",
            "Test set: Average loss: 0.0221, Accuracy: 9932/10000 (99.32%)\n",
            "\n",
            "Epoch #19\n"
          ],
          "name": "stdout"
        },
        {
          "output_type": "stream",
          "text": [
            "100%|██████████| 938/938 [00:18<00:00, 50.83it/s]\n",
            "  0%|          | 0/938 [00:00<?, ?it/s]"
          ],
          "name": "stderr"
        },
        {
          "output_type": "stream",
          "text": [
            "\n",
            "Test set: Average loss: 0.0213, Accuracy: 9941/10000 (99.41%)\n",
            "\n",
            "Epoch #20\n"
          ],
          "name": "stdout"
        },
        {
          "output_type": "stream",
          "text": [
            "100%|██████████| 938/938 [00:18<00:00, 50.77it/s]\n"
          ],
          "name": "stderr"
        },
        {
          "output_type": "stream",
          "text": [
            "\n",
            "Test set: Average loss: 0.0204, Accuracy: 9937/10000 (99.37%)\n",
            "\n"
          ],
          "name": "stdout"
        }
      ]
    },
    {
      "cell_type": "code",
      "metadata": {
        "id": "So5uk4EkHW6R"
      },
      "source": [
        ""
      ],
      "execution_count": 6,
      "outputs": []
    }
  ]
}