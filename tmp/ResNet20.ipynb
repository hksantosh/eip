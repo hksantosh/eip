{
  "nbformat": 4,
  "nbformat_minor": 0,
  "metadata": {
    "colab": {
      "name": "ResNet20.ipynb",
      "provenance": [],
      "include_colab_link": true
    },
    "kernelspec": {
      "name": "python3",
      "display_name": "Python 3"
    },
    "accelerator": "GPU"
  },
  "cells": [
    {
      "cell_type": "markdown",
      "metadata": {
        "id": "view-in-github",
        "colab_type": "text"
      },
      "source": [
        "<a href=\"https://colab.research.google.com/github/hksantosh/eip/blob/master/Assignment%204/Assignment%204B/ResNet20.ipynb\" target=\"_parent\"><img src=\"https://colab.research.google.com/assets/colab-badge.svg\" alt=\"Open In Colab\"/></a>"
      ]
    },
    {
      "cell_type": "code",
      "metadata": {
        "id": "NSDNAgR8y_no",
        "colab_type": "code",
        "colab": {
          "base_uri": "https://localhost:8080/",
          "height": 80
        },
        "outputId": "ec8c54d0-b8f1-4079-c7c0-238f19b44649"
      },
      "source": [
        "from __future__ import print_function\n",
        "import keras\n",
        "from keras.layers import Dense, Conv2D, BatchNormalization, Activation , Dropout\n",
        "from keras.layers import AveragePooling2D, Input, Flatten ,GlobalAveragePooling2D\n",
        "from keras.optimizers import Adam\n",
        "from keras.callbacks import ModelCheckpoint,LearningRateScheduler\n",
        "from keras.callbacks import ReduceLROnPlateau\n",
        "from keras.preprocessing.image import ImageDataGenerator\n",
        "from keras.regularizers import l2\n",
        "from keras import backend as K\n",
        "from keras.models import Model\n",
        "from keras.datasets import cifar10\n",
        "import numpy as np\n",
        "import os\n"
      ],
      "execution_count": 1,
      "outputs": [
        {
          "output_type": "stream",
          "text": [
            "Using TensorFlow backend.\n"
          ],
          "name": "stderr"
        },
        {
          "output_type": "display_data",
          "data": {
            "text/html": [
              "<p style=\"color: red;\">\n",
              "The default version of TensorFlow in Colab will soon switch to TensorFlow 2.x.<br>\n",
              "We recommend you <a href=\"https://www.tensorflow.org/guide/migrate\" target=\"_blank\">upgrade</a> now \n",
              "or ensure your notebook will continue to use TensorFlow 1.x via the <code>%tensorflow_version 1.x</code> magic:\n",
              "<a href=\"https://colab.research.google.com/notebooks/tensorflow_version.ipynb\" target=\"_blank\">more info</a>.</p>\n"
            ],
            "text/plain": [
              "<IPython.core.display.HTML object>"
            ]
          },
          "metadata": {
            "tags": []
          }
        }
      ]
    },
    {
      "cell_type": "code",
      "metadata": {
        "colab_type": "code",
        "id": "mcxJ-irc9n9I",
        "colab": {}
      },
      "source": [
        "batch_size = 128  # orig paper trained all networks with batch_size=128\n",
        "epochs = 50\n",
        "data_augmentation = True\n",
        "num_classes = 10\n"
      ],
      "execution_count": 0,
      "outputs": []
    },
    {
      "cell_type": "code",
      "metadata": {
        "colab_type": "code",
        "id": "Y3vK-Nvq9n9O",
        "colab": {}
      },
      "source": [
        "#Subtracting pixel mean improves accuracy\n",
        "subtract_pixel_mean = True\n",
        "\n",
        "# Model parameter\n",
        "# ----------------------------------------------------------------------------\n",
        "#           |      | 200-epoch | Orig Paper| 200-epoch | Orig Paper| sec/epoch\n",
        "# Model     |  n   | ResNet v1 | ResNet v1 | ResNet v2 | ResNet v2 | GTX1080Ti\n",
        "#           |v1(v2)| %Accuracy | %Accuracy | %Accuracy | %Accuracy | v1 (v2)\n",
        "# ----------------------------------------------------------------------------\n",
        "# ResNet20  | 3 (2)| 92.16     | 91.25     | -----     | -----     | 35 (---)\n",
        "# ResNet32  | 5(NA)| 92.46     | 92.49     | NA        | NA        | 50 ( NA)\n",
        "# ResNet44  | 7(NA)| 92.50     | 92.83     | NA        | NA        | 70 ( NA)\n",
        "# ResNet56  | 9 (6)| 92.71     | 93.03     | 93.01     | NA        | 90 (100)\n",
        "# ResNet110 |18(12)| 92.65     | 93.39+-.16| 93.15     | 93.63     | 165(180)\n",
        "# ResNet164 |27(18)| -----     | 94.07     | -----     | 94.54     | ---(---)\n",
        "# ResNet1001| (111)| -----     | 92.39     | -----     | 95.08+-.14| ---(---)\n",
        "# ---------------------------------------------------------------------------\n",
        "n = 2\n"
      ],
      "execution_count": 0,
      "outputs": []
    },
    {
      "cell_type": "code",
      "metadata": {
        "colab_type": "code",
        "id": "uw-fdEV39n9S",
        "colab": {
          "base_uri": "https://localhost:8080/",
          "height": 51
        },
        "outputId": "e5dbcfca-a2e8-4e31-bd09-24dbfd4d2a88"
      },
      "source": [
        "#Model version\n",
        "# Orig paper: version = 1 (ResNet v1), Improved ResNet: version = 2 (ResNet v2)\n",
        "version = 1\n",
        "\n",
        "# Computed depth from supplied model parameter n\n",
        "if version == 1:\n",
        "    depth = n * 6 + 2\n",
        "elif version == 2:\n",
        "    depth = n * 9 + 2\n",
        "\n",
        "# Model name, depth and version\n",
        "model_type = 'ResNet%dv%d' % (depth, version)\n",
        "\n",
        "# Load the CIFAR10 data.\n",
        "(x_train, y_train), (x_test, y_test) = cifar10.load_data()"
      ],
      "execution_count": 4,
      "outputs": [
        {
          "output_type": "stream",
          "text": [
            "Downloading data from https://www.cs.toronto.edu/~kriz/cifar-10-python.tar.gz\n",
            "170500096/170498071 [==============================] - 4s 0us/step\n"
          ],
          "name": "stdout"
        }
      ]
    },
    {
      "cell_type": "code",
      "metadata": {
        "colab_type": "code",
        "outputId": "0d157502-1907-4c44-818c-3f2077256f38",
        "id": "Qjy8MMTY9n9Y",
        "colab": {
          "base_uri": "https://localhost:8080/",
          "height": 85
        }
      },
      "source": [
        "#Input image dimensions.\n",
        "input_shape = x_train.shape[1:]\n",
        "\n",
        "# Normalize data.\n",
        "x_train = x_train.astype('float32') / 255\n",
        "x_test = x_test.astype('float32') / 255\n",
        "\n",
        "# If subtract pixel mean is enabled\n",
        "if subtract_pixel_mean:\n",
        "    x_train_mean = np.mean(x_train, axis=0)\n",
        "    x_train -= x_train_mean\n",
        "    x_test -= x_train_mean\n",
        "\n",
        "print('x_train shape:', x_train.shape)\n",
        "print(x_train.shape[0], 'train samples')\n",
        "print(x_test.shape[0], 'test samples')\n",
        "print('y_train shape:', y_train.shape)\n",
        "\n",
        "# Convert class vectors to binary class matrices.\n",
        "y_train = keras.utils.to_categorical(y_train, num_classes)\n",
        "y_test = keras.utils.to_categorical(y_test, num_classes)\n"
      ],
      "execution_count": 5,
      "outputs": [
        {
          "output_type": "stream",
          "text": [
            "x_train shape: (50000, 32, 32, 3)\n",
            "50000 train samples\n",
            "10000 test samples\n",
            "y_train shape: (50000, 1)\n"
          ],
          "name": "stdout"
        }
      ]
    },
    {
      "cell_type": "code",
      "metadata": {
        "colab_type": "code",
        "id": "kLB-dmkh9n9e",
        "colab": {}
      },
      "source": [
        "def lr_schedule(epoch):\n",
        "    \"\"\"Learning Rate Schedule\n",
        "\n",
        "    Learning rate is scheduled to be reduced after 80, 120, 160, 180 epochs.\n",
        "    Called automatically every epoch as part of callbacks during training.\n",
        "\n",
        "    # Arguments\n",
        "        epoch (int): The number of epochs\n",
        "\n",
        "    # Returns\n",
        "        lr (float32): learning rate\n",
        "    \"\"\"\n",
        "    lr = 1e-3\n",
        "    if epoch > 180:\n",
        "        lr *= 0.5e-3\n",
        "    elif epoch > 160:\n",
        "        lr *= 1e-3\n",
        "    elif epoch > 120:\n",
        "        lr *= 1e-2\n",
        "    elif epoch > 80:\n",
        "        lr *= 1e-1\n",
        "    print('Learning rate: ', lr)\n",
        "    return lr\n",
        "\n"
      ],
      "execution_count": 0,
      "outputs": []
    },
    {
      "cell_type": "code",
      "metadata": {
        "id": "yrU4E0UH-62I",
        "colab_type": "code",
        "colab": {}
      },
      "source": [
        "import numpy as np\n",
        "\n",
        "\n",
        "def get_random_eraser(p=0.5, s_l=0.02, s_h=0.4, r_1=0.3, r_2=1/0.3, v_l=0, v_h=255, pixel_level=False):\n",
        "    def eraser(input_img):\n",
        "        img_h, img_w, img_c = input_img.shape\n",
        "        p_1 = np.random.rand()\n",
        "\n",
        "        if p_1 > p:\n",
        "            return input_img\n",
        "\n",
        "        while True:\n",
        "            s = np.random.uniform(s_l, s_h) * img_h * img_w\n",
        "            r = np.random.uniform(r_1, r_2)\n",
        "            w = int(np.sqrt(s / r))\n",
        "            h = int(np.sqrt(s * r))\n",
        "            left = np.random.randint(0, img_w)\n",
        "            top = np.random.randint(0, img_h)\n",
        "\n",
        "            if left + w <= img_w and top + h <= img_h:\n",
        "                break\n",
        "\n",
        "        if pixel_level:\n",
        "            c = np.random.uniform(v_l, v_h, (h, w, img_c))\n",
        "        else:\n",
        "            c = np.random.uniform(v_l, v_h)\n",
        "\n",
        "        input_img[top:top + h, left:left + w, :] = c\n",
        "\n",
        "        return input_img\n",
        "\n",
        "    return eraser\n"
      ],
      "execution_count": 0,
      "outputs": []
    },
    {
      "cell_type": "code",
      "metadata": {
        "colab_type": "code",
        "id": "lkPD2HuQ9n9h",
        "colab": {}
      },
      "source": [
        "def resnet_layer(inputs,\n",
        "                 num_filters=22,\n",
        "                 kernel_size=3,\n",
        "                 strides=1,\n",
        "                 activation='relu',\n",
        "                 batch_normalization=True,\n",
        "                 conv_first=True):\n",
        "    \"\"\"2D Convolution-Batch Normalization-Activation stack builder\n",
        "\n",
        "    # Arguments\n",
        "        inputs (tensor): input tensor from input image or previous layer\n",
        "        num_filters (int): Conv2D number of filters\n",
        "        kernel_size (int): Conv2D square kernel dimensions\n",
        "        strides (int): Conv2D square stride dimensions\n",
        "        activation (string): activation name\n",
        "        batch_normalization (bool): whether to include batch normalization\n",
        "        conv_first (bool): conv-bn-activation (True) or\n",
        "            bn-activation-conv (False)\n",
        "\n",
        "    # Returns\n",
        "        x (tensor): tensor as input to the next layer\n",
        "    \"\"\"\n",
        "    conv = Conv2D(num_filters,\n",
        "                  kernel_size=kernel_size,\n",
        "                  strides=strides,\n",
        "                  padding='same',\n",
        "                  kernel_initializer='he_normal',\n",
        "                  kernel_regularizer=l2(1e-4))\n",
        "\n",
        "    x = inputs\n",
        "    if conv_first:\n",
        "        x = conv(x)\n",
        "        if batch_normalization:\n",
        "            x = BatchNormalization(momentum=0.355)(x)\n",
        "            x=Dropout(0.0994)(x)\n",
        "          #  x=Dropout(0.13)(x)\n",
        "        if activation is not None:\n",
        "            x = Activation(activation)(x)\n",
        "    else:\n",
        "        if batch_normalization:\n",
        "            x = BatchNormalization(momentum=0.355)(x)\n",
        "            x=Dropout(0.0994)(x)\n",
        "        if activation is not None:\n",
        "            x = Activation(activation)(x)\n",
        "        x = conv(x)\n",
        "    return x\n"
      ],
      "execution_count": 0,
      "outputs": []
    },
    {
      "cell_type": "code",
      "metadata": {
        "colab_type": "code",
        "id": "ecHQg-IH9n9k",
        "colab": {}
      },
      "source": [
        "def resnet_v1(input_shape, depth, num_classes=10):\n",
        "    \"\"\"ResNet Version 1 Model builder [a]\n",
        "\n",
        "    Stacks of 2 x (3 x 3) Conv2D-BN-ReLU\n",
        "    Last ReLU is after the shortcut connection.\n",
        "    At the beginning of each stage, the feature map size is halved (downsampled)\n",
        "    by a convolutional layer with strides=2, while the number of filters is\n",
        "    doubled. Within each stage, the layers have the same number filters and the\n",
        "    same number of filters.\n",
        "    Features maps sizes:\n",
        "    stage 0: 32x32, 16\n",
        "    stage 1: 16x16, 32\n",
        "    stage 2:  8x8,  64\n",
        "    The Number of parameters is approx the same as Table 6 of [a]:\n",
        "    ResNet20 0.27M\n",
        "    ResNet32 0.46M\n",
        "    ResNet44 0.66M\n",
        "    ResNet56 0.85M\n",
        "    ResNet110 1.7M\n",
        "\n",
        "    # Arguments\n",
        "        input_shape (tensor): shape of input image tensor\n",
        "        depth (int): number of core convolutional layers\n",
        "        num_classes (int): number of classes (CIFAR10 has 10)\n",
        "\n",
        "    # Returns\n",
        "        model (Model): Keras model instance\n",
        "    \"\"\"\n",
        "    if (depth - 2) % 6 != 0:\n",
        "        raise ValueError('depth should be 6n+2 (eg 20, 32, 44 in [a])')\n",
        "    # Start model definition.\n",
        "    num_filters = 22\n",
        "    num_res_blocks = int((depth - 2) / 6)\n",
        "\n",
        "    inputs = Input(shape=input_shape)\n",
        "    x = resnet_layer(inputs=inputs)\n",
        "    # Instantiate the stack of residual units\n",
        "    for stack in range(3):\n",
        "        for res_block in range(num_res_blocks):\n",
        "            strides = 1\n",
        "            if stack > 0 and res_block == 0:  # first layer but not first stack\n",
        "                strides = 2  # downsample\n",
        "            y = resnet_layer(inputs=x,\n",
        "                             num_filters=num_filters,\n",
        "                             strides=strides)\n",
        "            y = resnet_layer(inputs=y,\n",
        "                             num_filters=num_filters,\n",
        "                             activation=None)\n",
        "            if stack > 0 and res_block == 0:  # first layer but not first stack\n",
        "                # linear projection residual shortcut connection to match\n",
        "                # changed dims\n",
        "                x = resnet_layer(inputs=x,\n",
        "                                 num_filters=num_filters,\n",
        "                                 kernel_size=1,\n",
        "                                 strides=strides,\n",
        "                                 activation=None,\n",
        "                                 batch_normalization=False)\n",
        "            x = keras.layers.add([x, y])\n",
        "            x = Activation('relu')(x)\n",
        "        num_filters *= 2\n",
        "\n",
        "    # Add classifier on top.\n",
        "    # v1 does not use BN after last shortcut connection-ReLU\n",
        "   # x = AveragePooling2D(pool_size=4)(x)\n",
        "    y = GlobalAveragePooling2D()(x)\n",
        "    #outputs=Activation('softmax')(y)\n",
        "    outputs = Dense(num_classes,\n",
        "                    activation='softmax',\n",
        "                    kernel_initializer='he_normal')(y)\n",
        "\n",
        "    # Instantiate model.\n",
        "    model = Model(inputs=inputs, outputs=outputs)\n",
        "    return model\n"
      ],
      "execution_count": 0,
      "outputs": []
    },
    {
      "cell_type": "code",
      "metadata": {
        "colab_type": "code",
        "id": "S1J_QJnP9n9m",
        "colab": {}
      },
      "source": [
        "\n",
        "def resnet_v2(input_shape, depth, num_classes=10):\n",
        "    \"\"\"ResNet Version 2 Model builder [b]\n",
        "\n",
        "    Stacks of (1 x 1)-(3 x 3)-(1 x 1) BN-ReLU-Conv2D or also known as\n",
        "    bottleneck layer\n",
        "    First shortcut connection per layer is 1 x 1 Conv2D.\n",
        "    Second and onwards shortcut connection is identity.\n",
        "    At the beginning of each stage, the feature map size is halved (downsampled)\n",
        "    by a convolutional layer with strides=2, while the number of filter maps is\n",
        "    doubled. Within each stage, the layers have the same number filters and the\n",
        "    same filter map sizes.\n",
        "    Features maps sizes:\n",
        "    conv1  : 32x32,  16\n",
        "    stage 0: 32x32,  64\n",
        "    stage 1: 16x16, 128\n",
        "    stage 2:  8x8,  256\n",
        "\n",
        "    # Arguments\n",
        "        input_shape (tensor): shape of input image tensor\n",
        "        depth (int): number of core convolutional layers\n",
        "        num_classes (int): number of classes (CIFAR10 has 10)\n",
        "\n",
        "    # Returns\n",
        "        model (Model): Keras model instance\n",
        "    \"\"\"\n",
        "    if (depth - 2) % 9 != 0:\n",
        "        raise ValueError('depth should be 9n+2 (eg 56 or 110 in [b])')\n",
        "    # Start model definition.\n",
        "    num_filters_in = 16\n",
        "    num_res_blocks = int((depth - 2) / 9)\n",
        "\n",
        "    inputs = Input(shape=input_shape)\n",
        "    # v2 performs Conv2D with BN-ReLU on input before splitting into 2 paths\n",
        "    x = resnet_layer(inputs=inputs,\n",
        "                     num_filters=num_filters_in,\n",
        "                     conv_first=True)\n",
        "\n",
        "    # Instantiate the stack of residual units\n",
        "    for stage in range(3):\n",
        "        for res_block in range(num_res_blocks):\n",
        "            activation = 'relu'\n",
        "            batch_normalization = True\n",
        "            strides = 1\n",
        "            if stage == 0:\n",
        "                num_filters_out = num_filters_in * 4\n",
        "                if res_block == 0:  # first layer and first stage\n",
        "                    activation = None\n",
        "                    batch_normalization = False\n",
        "            else:\n",
        "                num_filters_out = num_filters_in * 2\n",
        "                if res_block == 0:  # first layer but not first stage\n",
        "                    strides = 2    # downsample\n",
        "\n",
        "            # bottleneck residual unit\n",
        "            y = resnet_layer(inputs=x,\n",
        "                             num_filters=num_filters_in,\n",
        "                             kernel_size=1,\n",
        "                             strides=strides,\n",
        "                             activation=activation,\n",
        "                             batch_normalization=batch_normalization,\n",
        "                             conv_first=False)\n",
        "            y = resnet_layer(inputs=y,\n",
        "                             num_filters=num_filters_in,\n",
        "                             conv_first=False)\n",
        "            y = resnet_layer(inputs=y,\n",
        "                             num_filters=num_filters_out,\n",
        "                             kernel_size=1,\n",
        "                             conv_first=False)\n",
        "            if res_block == 0:\n",
        "                # linear projection residual shortcut connection to match\n",
        "                # changed dims\n",
        "                x = resnet_layer(inputs=x,\n",
        "                                 num_filters=num_filters_out,\n",
        "                                 kernel_size=1,\n",
        "                                 strides=strides,\n",
        "                                 activation=None,\n",
        "                                 batch_normalization=False)\n",
        "            x = keras.layers.add([x, y])\n",
        "\n",
        "        num_filters_in = num_filters_out\n",
        "\n",
        "    # Add classifier on top.\n",
        "    # v2 has BN-ReLU before Pooling\n",
        "    x = BatchNormalization()(x)\n",
        "    x = Activation('relu')(x)\n",
        "    x = AveragePooling2D(pool_size=8)(x)\n",
        "    y = Flatten()(x)\n",
        "    outputs = Dense(num_classes,\n",
        "                    activation='softmax',\n",
        "                    kernel_initializer='he_normal')(y)\n",
        "\n",
        "    # Instantiate model.\n",
        "    model = Model(inputs=inputs, outputs=outputs)\n",
        "    return model\n"
      ],
      "execution_count": 0,
      "outputs": []
    },
    {
      "cell_type": "code",
      "metadata": {
        "colab_type": "code",
        "outputId": "455698c4-8367-4bb5-ccb5-00e827fa1ba6",
        "id": "2VCj_dWX9n9q",
        "colab": {
          "base_uri": "https://localhost:8080/",
          "height": 1000
        }
      },
      "source": [
        "if version == 2:\n",
        "    model = resnet_v2(input_shape=input_shape, depth=depth)\n",
        "else:\n",
        "    model = resnet_v1(input_shape=input_shape, depth=depth)\n",
        "\n",
        "model.compile(loss='categorical_crossentropy',\n",
        "              optimizer=Adam(lr=lr_schedule(0)),\n",
        "              metrics=['accuracy'])\n",
        "model.summary()\n",
        "print(model_type)"
      ],
      "execution_count": 11,
      "outputs": [
        {
          "output_type": "stream",
          "text": [
            "WARNING:tensorflow:From /usr/local/lib/python3.6/dist-packages/keras/backend/tensorflow_backend.py:66: The name tf.get_default_graph is deprecated. Please use tf.compat.v1.get_default_graph instead.\n",
            "\n",
            "WARNING:tensorflow:From /usr/local/lib/python3.6/dist-packages/keras/backend/tensorflow_backend.py:541: The name tf.placeholder is deprecated. Please use tf.compat.v1.placeholder instead.\n",
            "\n",
            "WARNING:tensorflow:From /usr/local/lib/python3.6/dist-packages/keras/backend/tensorflow_backend.py:4479: The name tf.truncated_normal is deprecated. Please use tf.random.truncated_normal instead.\n",
            "\n",
            "WARNING:tensorflow:From /usr/local/lib/python3.6/dist-packages/keras/backend/tensorflow_backend.py:190: The name tf.get_default_session is deprecated. Please use tf.compat.v1.get_default_session instead.\n",
            "\n",
            "WARNING:tensorflow:From /usr/local/lib/python3.6/dist-packages/keras/backend/tensorflow_backend.py:197: The name tf.ConfigProto is deprecated. Please use tf.compat.v1.ConfigProto instead.\n",
            "\n",
            "WARNING:tensorflow:From /usr/local/lib/python3.6/dist-packages/keras/backend/tensorflow_backend.py:203: The name tf.Session is deprecated. Please use tf.compat.v1.Session instead.\n",
            "\n",
            "WARNING:tensorflow:From /usr/local/lib/python3.6/dist-packages/keras/backend/tensorflow_backend.py:207: The name tf.global_variables is deprecated. Please use tf.compat.v1.global_variables instead.\n",
            "\n",
            "WARNING:tensorflow:From /usr/local/lib/python3.6/dist-packages/keras/backend/tensorflow_backend.py:216: The name tf.is_variable_initialized is deprecated. Please use tf.compat.v1.is_variable_initialized instead.\n",
            "\n",
            "WARNING:tensorflow:From /usr/local/lib/python3.6/dist-packages/keras/backend/tensorflow_backend.py:223: The name tf.variables_initializer is deprecated. Please use tf.compat.v1.variables_initializer instead.\n",
            "\n",
            "WARNING:tensorflow:From /usr/local/lib/python3.6/dist-packages/keras/backend/tensorflow_backend.py:2041: The name tf.nn.fused_batch_norm is deprecated. Please use tf.compat.v1.nn.fused_batch_norm instead.\n",
            "\n",
            "WARNING:tensorflow:From /usr/local/lib/python3.6/dist-packages/keras/backend/tensorflow_backend.py:148: The name tf.placeholder_with_default is deprecated. Please use tf.compat.v1.placeholder_with_default instead.\n",
            "\n",
            "WARNING:tensorflow:From /usr/local/lib/python3.6/dist-packages/keras/backend/tensorflow_backend.py:3733: calling dropout (from tensorflow.python.ops.nn_ops) with keep_prob is deprecated and will be removed in a future version.\n",
            "Instructions for updating:\n",
            "Please use `rate` instead of `keep_prob`. Rate should be set to `rate = 1 - keep_prob`.\n",
            "Learning rate:  0.001\n",
            "WARNING:tensorflow:From /usr/local/lib/python3.6/dist-packages/keras/optimizers.py:793: The name tf.train.Optimizer is deprecated. Please use tf.compat.v1.train.Optimizer instead.\n",
            "\n",
            "WARNING:tensorflow:From /usr/local/lib/python3.6/dist-packages/keras/backend/tensorflow_backend.py:3576: The name tf.log is deprecated. Please use tf.math.log instead.\n",
            "\n",
            "Model: \"model_1\"\n",
            "__________________________________________________________________________________________________\n",
            "Layer (type)                    Output Shape         Param #     Connected to                     \n",
            "==================================================================================================\n",
            "input_1 (InputLayer)            (None, 32, 32, 3)    0                                            \n",
            "__________________________________________________________________________________________________\n",
            "conv2d_1 (Conv2D)               (None, 32, 32, 22)   616         input_1[0][0]                    \n",
            "__________________________________________________________________________________________________\n",
            "batch_normalization_1 (BatchNor (None, 32, 32, 22)   88          conv2d_1[0][0]                   \n",
            "__________________________________________________________________________________________________\n",
            "dropout_1 (Dropout)             (None, 32, 32, 22)   0           batch_normalization_1[0][0]      \n",
            "__________________________________________________________________________________________________\n",
            "activation_1 (Activation)       (None, 32, 32, 22)   0           dropout_1[0][0]                  \n",
            "__________________________________________________________________________________________________\n",
            "conv2d_2 (Conv2D)               (None, 32, 32, 22)   4378        activation_1[0][0]               \n",
            "__________________________________________________________________________________________________\n",
            "batch_normalization_2 (BatchNor (None, 32, 32, 22)   88          conv2d_2[0][0]                   \n",
            "__________________________________________________________________________________________________\n",
            "dropout_2 (Dropout)             (None, 32, 32, 22)   0           batch_normalization_2[0][0]      \n",
            "__________________________________________________________________________________________________\n",
            "activation_2 (Activation)       (None, 32, 32, 22)   0           dropout_2[0][0]                  \n",
            "__________________________________________________________________________________________________\n",
            "conv2d_3 (Conv2D)               (None, 32, 32, 22)   4378        activation_2[0][0]               \n",
            "__________________________________________________________________________________________________\n",
            "batch_normalization_3 (BatchNor (None, 32, 32, 22)   88          conv2d_3[0][0]                   \n",
            "__________________________________________________________________________________________________\n",
            "dropout_3 (Dropout)             (None, 32, 32, 22)   0           batch_normalization_3[0][0]      \n",
            "__________________________________________________________________________________________________\n",
            "add_1 (Add)                     (None, 32, 32, 22)   0           activation_1[0][0]               \n",
            "                                                                 dropout_3[0][0]                  \n",
            "__________________________________________________________________________________________________\n",
            "activation_3 (Activation)       (None, 32, 32, 22)   0           add_1[0][0]                      \n",
            "__________________________________________________________________________________________________\n",
            "conv2d_4 (Conv2D)               (None, 32, 32, 22)   4378        activation_3[0][0]               \n",
            "__________________________________________________________________________________________________\n",
            "batch_normalization_4 (BatchNor (None, 32, 32, 22)   88          conv2d_4[0][0]                   \n",
            "__________________________________________________________________________________________________\n",
            "dropout_4 (Dropout)             (None, 32, 32, 22)   0           batch_normalization_4[0][0]      \n",
            "__________________________________________________________________________________________________\n",
            "activation_4 (Activation)       (None, 32, 32, 22)   0           dropout_4[0][0]                  \n",
            "__________________________________________________________________________________________________\n",
            "conv2d_5 (Conv2D)               (None, 32, 32, 22)   4378        activation_4[0][0]               \n",
            "__________________________________________________________________________________________________\n",
            "batch_normalization_5 (BatchNor (None, 32, 32, 22)   88          conv2d_5[0][0]                   \n",
            "__________________________________________________________________________________________________\n",
            "dropout_5 (Dropout)             (None, 32, 32, 22)   0           batch_normalization_5[0][0]      \n",
            "__________________________________________________________________________________________________\n",
            "add_2 (Add)                     (None, 32, 32, 22)   0           activation_3[0][0]               \n",
            "                                                                 dropout_5[0][0]                  \n",
            "__________________________________________________________________________________________________\n",
            "activation_5 (Activation)       (None, 32, 32, 22)   0           add_2[0][0]                      \n",
            "__________________________________________________________________________________________________\n",
            "conv2d_6 (Conv2D)               (None, 16, 16, 44)   8756        activation_5[0][0]               \n",
            "__________________________________________________________________________________________________\n",
            "batch_normalization_6 (BatchNor (None, 16, 16, 44)   176         conv2d_6[0][0]                   \n",
            "__________________________________________________________________________________________________\n",
            "dropout_6 (Dropout)             (None, 16, 16, 44)   0           batch_normalization_6[0][0]      \n",
            "__________________________________________________________________________________________________\n",
            "activation_6 (Activation)       (None, 16, 16, 44)   0           dropout_6[0][0]                  \n",
            "__________________________________________________________________________________________________\n",
            "conv2d_7 (Conv2D)               (None, 16, 16, 44)   17468       activation_6[0][0]               \n",
            "__________________________________________________________________________________________________\n",
            "batch_normalization_7 (BatchNor (None, 16, 16, 44)   176         conv2d_7[0][0]                   \n",
            "__________________________________________________________________________________________________\n",
            "conv2d_8 (Conv2D)               (None, 16, 16, 44)   1012        activation_5[0][0]               \n",
            "__________________________________________________________________________________________________\n",
            "dropout_7 (Dropout)             (None, 16, 16, 44)   0           batch_normalization_7[0][0]      \n",
            "__________________________________________________________________________________________________\n",
            "add_3 (Add)                     (None, 16, 16, 44)   0           conv2d_8[0][0]                   \n",
            "                                                                 dropout_7[0][0]                  \n",
            "__________________________________________________________________________________________________\n",
            "activation_7 (Activation)       (None, 16, 16, 44)   0           add_3[0][0]                      \n",
            "__________________________________________________________________________________________________\n",
            "conv2d_9 (Conv2D)               (None, 16, 16, 44)   17468       activation_7[0][0]               \n",
            "__________________________________________________________________________________________________\n",
            "batch_normalization_8 (BatchNor (None, 16, 16, 44)   176         conv2d_9[0][0]                   \n",
            "__________________________________________________________________________________________________\n",
            "dropout_8 (Dropout)             (None, 16, 16, 44)   0           batch_normalization_8[0][0]      \n",
            "__________________________________________________________________________________________________\n",
            "activation_8 (Activation)       (None, 16, 16, 44)   0           dropout_8[0][0]                  \n",
            "__________________________________________________________________________________________________\n",
            "conv2d_10 (Conv2D)              (None, 16, 16, 44)   17468       activation_8[0][0]               \n",
            "__________________________________________________________________________________________________\n",
            "batch_normalization_9 (BatchNor (None, 16, 16, 44)   176         conv2d_10[0][0]                  \n",
            "__________________________________________________________________________________________________\n",
            "dropout_9 (Dropout)             (None, 16, 16, 44)   0           batch_normalization_9[0][0]      \n",
            "__________________________________________________________________________________________________\n",
            "add_4 (Add)                     (None, 16, 16, 44)   0           activation_7[0][0]               \n",
            "                                                                 dropout_9[0][0]                  \n",
            "__________________________________________________________________________________________________\n",
            "activation_9 (Activation)       (None, 16, 16, 44)   0           add_4[0][0]                      \n",
            "__________________________________________________________________________________________________\n",
            "conv2d_11 (Conv2D)              (None, 8, 8, 88)     34936       activation_9[0][0]               \n",
            "__________________________________________________________________________________________________\n",
            "batch_normalization_10 (BatchNo (None, 8, 8, 88)     352         conv2d_11[0][0]                  \n",
            "__________________________________________________________________________________________________\n",
            "dropout_10 (Dropout)            (None, 8, 8, 88)     0           batch_normalization_10[0][0]     \n",
            "__________________________________________________________________________________________________\n",
            "activation_10 (Activation)      (None, 8, 8, 88)     0           dropout_10[0][0]                 \n",
            "__________________________________________________________________________________________________\n",
            "conv2d_12 (Conv2D)              (None, 8, 8, 88)     69784       activation_10[0][0]              \n",
            "__________________________________________________________________________________________________\n",
            "batch_normalization_11 (BatchNo (None, 8, 8, 88)     352         conv2d_12[0][0]                  \n",
            "__________________________________________________________________________________________________\n",
            "conv2d_13 (Conv2D)              (None, 8, 8, 88)     3960        activation_9[0][0]               \n",
            "__________________________________________________________________________________________________\n",
            "dropout_11 (Dropout)            (None, 8, 8, 88)     0           batch_normalization_11[0][0]     \n",
            "__________________________________________________________________________________________________\n",
            "add_5 (Add)                     (None, 8, 8, 88)     0           conv2d_13[0][0]                  \n",
            "                                                                 dropout_11[0][0]                 \n",
            "__________________________________________________________________________________________________\n",
            "activation_11 (Activation)      (None, 8, 8, 88)     0           add_5[0][0]                      \n",
            "__________________________________________________________________________________________________\n",
            "conv2d_14 (Conv2D)              (None, 8, 8, 88)     69784       activation_11[0][0]              \n",
            "__________________________________________________________________________________________________\n",
            "batch_normalization_12 (BatchNo (None, 8, 8, 88)     352         conv2d_14[0][0]                  \n",
            "__________________________________________________________________________________________________\n",
            "dropout_12 (Dropout)            (None, 8, 8, 88)     0           batch_normalization_12[0][0]     \n",
            "__________________________________________________________________________________________________\n",
            "activation_12 (Activation)      (None, 8, 8, 88)     0           dropout_12[0][0]                 \n",
            "__________________________________________________________________________________________________\n",
            "conv2d_15 (Conv2D)              (None, 8, 8, 88)     69784       activation_12[0][0]              \n",
            "__________________________________________________________________________________________________\n",
            "batch_normalization_13 (BatchNo (None, 8, 8, 88)     352         conv2d_15[0][0]                  \n",
            "__________________________________________________________________________________________________\n",
            "dropout_13 (Dropout)            (None, 8, 8, 88)     0           batch_normalization_13[0][0]     \n",
            "__________________________________________________________________________________________________\n",
            "add_6 (Add)                     (None, 8, 8, 88)     0           activation_11[0][0]              \n",
            "                                                                 dropout_13[0][0]                 \n",
            "__________________________________________________________________________________________________\n",
            "activation_13 (Activation)      (None, 8, 8, 88)     0           add_6[0][0]                      \n",
            "__________________________________________________________________________________________________\n",
            "global_average_pooling2d_1 (Glo (None, 88)           0           activation_13[0][0]              \n",
            "__________________________________________________________________________________________________\n",
            "dense_1 (Dense)                 (None, 10)           890         global_average_pooling2d_1[0][0] \n",
            "==================================================================================================\n",
            "Total params: 331,990\n",
            "Trainable params: 330,714\n",
            "Non-trainable params: 1,276\n",
            "__________________________________________________________________________________________________\n",
            "ResNet14v1\n"
          ],
          "name": "stdout"
        }
      ]
    },
    {
      "cell_type": "code",
      "metadata": {
        "colab_type": "code",
        "id": "1dfb2s4N9n9t",
        "colab": {}
      },
      "source": [
        "# Prepare model model saving directory.\n",
        "save_dir = os.path.join(os.getcwd(), 'saved_models')\n",
        "model_name = 'cifar10_%s_model.{epoch:03d}.h5' % model_type\n",
        "if not os.path.isdir(save_dir):\n",
        "    os.makedirs(save_dir)\n",
        "filepath = os.path.join(save_dir, model_name)\n",
        "\n",
        "# Prepare callbacks for model saving and for learning rate adjustment.\n",
        "checkpoint = ModelCheckpoint(filepath=filepath,\n",
        "                             monitor='val_acc',\n",
        "                             verbose=2,\n",
        "                             save_best_only=True)\n",
        "\n",
        "lr_scheduler = LearningRateScheduler(lr_schedule)\n",
        "\n",
        "lr_reducer = ReduceLROnPlateau(factor=np.sqrt(0.1),\n",
        "                               cooldown=0,\n",
        "                               patience=5,\n",
        "                               min_lr=0.5e-6)\n",
        "\n",
        "callbacks = [checkpoint, lr_reducer, lr_scheduler]\n"
      ],
      "execution_count": 0,
      "outputs": []
    },
    {
      "cell_type": "code",
      "metadata": {
        "colab_type": "code",
        "outputId": "5243a0ca-dc98-4a12-d685-ca0aed4b5c17",
        "id": "P2x4GwxB9n9u",
        "colab": {
          "base_uri": "https://localhost:8080/",
          "height": 34
        }
      },
      "source": [
        "#Run training, with or without data augmentation.\n",
        "if not data_augmentation:\n",
        "    print('Not using data augmentation.')\n",
        "    model.fit(x_train, y_train,\n",
        "              batch_size=batch_size,\n",
        "              epochs=epochs,\n",
        "              validation_data=(x_test, y_test),\n",
        "              shuffle=True,\n",
        "              callbacks=callbacks)\n",
        "else:\n",
        "    print('Using real-time data augmentation.')\n",
        "    get_random_eraser(v_l=0, v_h=1)\n",
        "    # This will do preprocessing and realtime data augmentation:\n",
        "    datagen = ImageDataGenerator(\n",
        "        \n",
        "       # get_random_eraser(v_l=0, v_h=1)\n",
        "        # set input mean to 0 over the dataset\n",
        "        featurewise_center=False,\n",
        "        # set each sample mean to 0\n",
        "        samplewise_center=False,\n",
        "        # divide inputs by std of dataset\n",
        "        featurewise_std_normalization=False,\n",
        "        # divide each input by its std\n",
        "        samplewise_std_normalization=False,\n",
        "        # apply ZCA whitening\n",
        "        zca_whitening=False,\n",
        "        # epsilon for ZCA whitening\n",
        "        zca_epsilon=1e-06,\n",
        "        # randomly rotate images in the range (deg 0 to 180)\n",
        "        rotation_range=0,\n",
        "        # randomly shift images horizontally\n",
        "        width_shift_range=0.1,\n",
        "        # randomly shift images vertically\n",
        "        height_shift_range=0.1,\n",
        "        # set range for random shear\n",
        "        shear_range=0.,\n",
        "        # set range for random zoom\n",
        "        zoom_range=0.,\n",
        "        # set range for random channel shifts\n",
        "        channel_shift_range=0.,\n",
        "        # set mode for filling points outside the input boundaries\n",
        "        fill_mode='nearest',\n",
        "        # value used for fill_mode = \"constant\"\n",
        "        cval=0.,\n",
        "        # randomly flip images\n",
        "        horizontal_flip=True,\n",
        "        # randomly flip images\n",
        "        vertical_flip=False,\n",
        "        # set rescaling factor (applied before any other transformation)\n",
        "        rescale=None,\n",
        "        # set function that will be applied on each input\n",
        "        preprocessing_function=None,\n",
        "        # image data format, either \"channels_first\" or \"channels_last\"\n",
        "        data_format=None,\n",
        "        # fraction of images reserved for validation (strictly between 0 and 1)\n",
        "        validation_split=0.0)"
      ],
      "execution_count": 13,
      "outputs": [
        {
          "output_type": "stream",
          "text": [
            "Using real-time data augmentation.\n"
          ],
          "name": "stdout"
        }
      ]
    },
    {
      "cell_type": "code",
      "metadata": {
        "colab_type": "code",
        "outputId": "172176c4-ebea-4c60-c69c-5537842bfd83",
        "id": "2JpW1yC99n9w",
        "colab": {
          "base_uri": "https://localhost:8080/",
          "height": 1000
        }
      },
      "source": [
        "#Compute quantities required for featurewise normalization\n",
        "    # (std, mean, and principal components if ZCA whitening is applied).\n",
        "    datagen.fit(x_train)\n",
        "\n",
        "    # Fit the model on the batches generated by datagen.flow().\n",
        "    model.fit_generator(datagen.flow(x_train, y_train, batch_size=batch_size),\n",
        "                        validation_data=(x_test, y_test),\n",
        "                        epochs=epochs,verbose=2,workers=4,\n",
        "                        callbacks=callbacks)\n",
        "\n",
        "# Score trained model.\n",
        "scores = model.evaluate(x_test, y_test, verbose=1)\n",
        "print('Test loss:', scores[0])\n",
        "print('Test accuracy:', scores[1])"
      ],
      "execution_count": 14,
      "outputs": [
        {
          "output_type": "stream",
          "text": [
            "WARNING:tensorflow:From /usr/local/lib/python3.6/dist-packages/tensorflow_core/python/ops/math_grad.py:1424: where (from tensorflow.python.ops.array_ops) is deprecated and will be removed in a future version.\n",
            "Instructions for updating:\n",
            "Use tf.where in 2.0, which has the same broadcast rule as np.where\n",
            "WARNING:tensorflow:From /usr/local/lib/python3.6/dist-packages/keras/backend/tensorflow_backend.py:1033: The name tf.assign_add is deprecated. Please use tf.compat.v1.assign_add instead.\n",
            "\n",
            "WARNING:tensorflow:From /usr/local/lib/python3.6/dist-packages/keras/backend/tensorflow_backend.py:1020: The name tf.assign is deprecated. Please use tf.compat.v1.assign instead.\n",
            "\n",
            "Epoch 1/50\n",
            "Learning rate:  0.001\n",
            " - 35s - loss: 1.7014 - acc: 0.4312 - val_loss: 1.3790 - val_acc: 0.5475\n",
            "\n",
            "Epoch 00001: val_acc improved from -inf to 0.54750, saving model to /content/saved_models/cifar10_ResNet14v1_model.001.h5\n",
            "Epoch 2/50\n",
            "Learning rate:  0.001\n",
            " - 27s - loss: 1.3095 - acc: 0.5801 - val_loss: 1.1678 - val_acc: 0.6339\n",
            "\n",
            "Epoch 00002: val_acc improved from 0.54750 to 0.63390, saving model to /content/saved_models/cifar10_ResNet14v1_model.002.h5\n",
            "Epoch 3/50\n",
            "Learning rate:  0.001\n",
            " - 27s - loss: 1.1403 - acc: 0.6462 - val_loss: 1.0439 - val_acc: 0.6768\n",
            "\n",
            "Epoch 00003: val_acc improved from 0.63390 to 0.67680, saving model to /content/saved_models/cifar10_ResNet14v1_model.003.h5\n",
            "Epoch 4/50\n",
            "Learning rate:  0.001\n",
            " - 27s - loss: 1.0208 - acc: 0.6896 - val_loss: 0.9359 - val_acc: 0.7210\n",
            "\n",
            "Epoch 00004: val_acc improved from 0.67680 to 0.72100, saving model to /content/saved_models/cifar10_ResNet14v1_model.004.h5\n",
            "Epoch 5/50\n",
            "Learning rate:  0.001\n",
            " - 27s - loss: 0.9338 - acc: 0.7224 - val_loss: 0.8942 - val_acc: 0.7437\n",
            "\n",
            "Epoch 00005: val_acc improved from 0.72100 to 0.74370, saving model to /content/saved_models/cifar10_ResNet14v1_model.005.h5\n",
            "Epoch 6/50\n",
            "Learning rate:  0.001\n",
            " - 27s - loss: 0.8747 - acc: 0.7445 - val_loss: 0.7999 - val_acc: 0.7751\n",
            "\n",
            "Epoch 00006: val_acc improved from 0.74370 to 0.77510, saving model to /content/saved_models/cifar10_ResNet14v1_model.006.h5\n",
            "Epoch 7/50\n",
            "Learning rate:  0.001\n",
            " - 27s - loss: 0.8253 - acc: 0.7601 - val_loss: 0.7760 - val_acc: 0.7825\n",
            "\n",
            "Epoch 00007: val_acc improved from 0.77510 to 0.78250, saving model to /content/saved_models/cifar10_ResNet14v1_model.007.h5\n",
            "Epoch 8/50\n",
            "Learning rate:  0.001\n",
            " - 26s - loss: 0.7876 - acc: 0.7747 - val_loss: 0.7433 - val_acc: 0.7958\n",
            "\n",
            "Epoch 00008: val_acc improved from 0.78250 to 0.79580, saving model to /content/saved_models/cifar10_ResNet14v1_model.008.h5\n",
            "Epoch 9/50\n",
            "Learning rate:  0.001\n",
            " - 27s - loss: 0.7588 - acc: 0.7854 - val_loss: 0.7052 - val_acc: 0.8091\n",
            "\n",
            "Epoch 00009: val_acc improved from 0.79580 to 0.80910, saving model to /content/saved_models/cifar10_ResNet14v1_model.009.h5\n",
            "Epoch 10/50\n",
            "Learning rate:  0.001\n",
            " - 26s - loss: 0.7321 - acc: 0.7936 - val_loss: 0.7096 - val_acc: 0.8114\n",
            "\n",
            "Epoch 00010: val_acc improved from 0.80910 to 0.81140, saving model to /content/saved_models/cifar10_ResNet14v1_model.010.h5\n",
            "Epoch 11/50\n",
            "Learning rate:  0.001\n",
            " - 27s - loss: 0.7092 - acc: 0.8022 - val_loss: 0.6677 - val_acc: 0.8226\n",
            "\n",
            "Epoch 00011: val_acc improved from 0.81140 to 0.82260, saving model to /content/saved_models/cifar10_ResNet14v1_model.011.h5\n",
            "Epoch 12/50\n",
            "Learning rate:  0.001\n",
            " - 27s - loss: 0.6883 - acc: 0.8099 - val_loss: 0.6736 - val_acc: 0.8200\n",
            "\n",
            "Epoch 00012: val_acc did not improve from 0.82260\n",
            "Epoch 13/50\n",
            "Learning rate:  0.001\n",
            " - 27s - loss: 0.6725 - acc: 0.8148 - val_loss: 0.6979 - val_acc: 0.8112\n",
            "\n",
            "Epoch 00013: val_acc did not improve from 0.82260\n",
            "Epoch 14/50\n",
            "Learning rate:  0.001\n",
            " - 26s - loss: 0.6586 - acc: 0.8207 - val_loss: 0.6371 - val_acc: 0.8352\n",
            "\n",
            "Epoch 00014: val_acc improved from 0.82260 to 0.83520, saving model to /content/saved_models/cifar10_ResNet14v1_model.014.h5\n",
            "Epoch 15/50\n",
            "Learning rate:  0.001\n",
            " - 26s - loss: 0.6443 - acc: 0.8250 - val_loss: 0.6898 - val_acc: 0.8245\n",
            "\n",
            "Epoch 00015: val_acc did not improve from 0.83520\n",
            "Epoch 16/50\n",
            "Learning rate:  0.001\n",
            " - 26s - loss: 0.6342 - acc: 0.8312 - val_loss: 0.6166 - val_acc: 0.8416\n",
            "\n",
            "Epoch 00016: val_acc improved from 0.83520 to 0.84160, saving model to /content/saved_models/cifar10_ResNet14v1_model.016.h5\n",
            "Epoch 17/50\n",
            "Learning rate:  0.001\n",
            " - 26s - loss: 0.6210 - acc: 0.8334 - val_loss: 0.6015 - val_acc: 0.8464\n",
            "\n",
            "Epoch 00017: val_acc improved from 0.84160 to 0.84640, saving model to /content/saved_models/cifar10_ResNet14v1_model.017.h5\n",
            "Epoch 18/50\n",
            "Learning rate:  0.001\n",
            " - 26s - loss: 0.6099 - acc: 0.8393 - val_loss: 0.5985 - val_acc: 0.8484\n",
            "\n",
            "Epoch 00018: val_acc improved from 0.84640 to 0.84840, saving model to /content/saved_models/cifar10_ResNet14v1_model.018.h5\n",
            "Epoch 19/50\n",
            "Learning rate:  0.001\n",
            " - 26s - loss: 0.5989 - acc: 0.8424 - val_loss: 0.6184 - val_acc: 0.8425\n",
            "\n",
            "Epoch 00019: val_acc did not improve from 0.84840\n",
            "Epoch 20/50\n",
            "Learning rate:  0.001\n",
            " - 26s - loss: 0.5955 - acc: 0.8439 - val_loss: 0.6078 - val_acc: 0.8442\n",
            "\n",
            "Epoch 00020: val_acc did not improve from 0.84840\n",
            "Epoch 21/50\n",
            "Learning rate:  0.001\n",
            " - 26s - loss: 0.5885 - acc: 0.8468 - val_loss: 0.5961 - val_acc: 0.8514\n",
            "\n",
            "Epoch 00021: val_acc improved from 0.84840 to 0.85140, saving model to /content/saved_models/cifar10_ResNet14v1_model.021.h5\n",
            "Epoch 22/50\n",
            "Learning rate:  0.001\n",
            " - 26s - loss: 0.5805 - acc: 0.8491 - val_loss: 0.6029 - val_acc: 0.8453\n",
            "\n",
            "Epoch 00022: val_acc did not improve from 0.85140\n",
            "Epoch 23/50\n",
            "Learning rate:  0.001\n",
            " - 26s - loss: 0.5726 - acc: 0.8519 - val_loss: 0.5753 - val_acc: 0.8601\n",
            "\n",
            "Epoch 00023: val_acc improved from 0.85140 to 0.86010, saving model to /content/saved_models/cifar10_ResNet14v1_model.023.h5\n",
            "Epoch 24/50\n",
            "Learning rate:  0.001\n",
            " - 26s - loss: 0.5630 - acc: 0.8559 - val_loss: 0.5672 - val_acc: 0.8596\n",
            "\n",
            "Epoch 00024: val_acc did not improve from 0.86010\n",
            "Epoch 25/50\n",
            "Learning rate:  0.001\n",
            " - 26s - loss: 0.5617 - acc: 0.8554 - val_loss: 0.5652 - val_acc: 0.8622\n",
            "\n",
            "Epoch 00025: val_acc improved from 0.86010 to 0.86220, saving model to /content/saved_models/cifar10_ResNet14v1_model.025.h5\n",
            "Epoch 26/50\n",
            "Learning rate:  0.001\n",
            " - 26s - loss: 0.5558 - acc: 0.8576 - val_loss: 0.5767 - val_acc: 0.8598\n",
            "\n",
            "Epoch 00026: val_acc did not improve from 0.86220\n",
            "Epoch 27/50\n",
            "Learning rate:  0.001\n",
            " - 26s - loss: 0.5497 - acc: 0.8591 - val_loss: 0.5501 - val_acc: 0.8653\n",
            "\n",
            "Epoch 00027: val_acc improved from 0.86220 to 0.86530, saving model to /content/saved_models/cifar10_ResNet14v1_model.027.h5\n",
            "Epoch 28/50\n",
            "Learning rate:  0.001\n",
            " - 26s - loss: 0.5459 - acc: 0.8617 - val_loss: 0.5889 - val_acc: 0.8564\n",
            "\n",
            "Epoch 00028: val_acc did not improve from 0.86530\n",
            "Epoch 29/50\n",
            "Learning rate:  0.001\n",
            " - 26s - loss: 0.5353 - acc: 0.8649 - val_loss: 0.5805 - val_acc: 0.8588\n",
            "\n",
            "Epoch 00029: val_acc did not improve from 0.86530\n",
            "Epoch 30/50\n",
            "Learning rate:  0.001\n",
            " - 26s - loss: 0.5350 - acc: 0.8675 - val_loss: 0.5806 - val_acc: 0.8595\n",
            "\n",
            "Epoch 00030: val_acc did not improve from 0.86530\n",
            "Epoch 31/50\n",
            "Learning rate:  0.001\n",
            " - 27s - loss: 0.5322 - acc: 0.8678 - val_loss: 0.5604 - val_acc: 0.8604\n",
            "\n",
            "Epoch 00031: val_acc did not improve from 0.86530\n",
            "Epoch 32/50\n",
            "Learning rate:  0.001\n",
            " - 28s - loss: 0.5273 - acc: 0.8688 - val_loss: 0.5574 - val_acc: 0.8670\n",
            "\n",
            "Epoch 00032: val_acc improved from 0.86530 to 0.86700, saving model to /content/saved_models/cifar10_ResNet14v1_model.032.h5\n",
            "Epoch 33/50\n",
            "Learning rate:  0.001\n",
            " - 26s - loss: 0.5291 - acc: 0.8682 - val_loss: 0.5814 - val_acc: 0.8593\n",
            "\n",
            "Epoch 00033: val_acc did not improve from 0.86700\n",
            "Epoch 34/50\n",
            "Learning rate:  0.001\n",
            " - 26s - loss: 0.5185 - acc: 0.8731 - val_loss: 0.5539 - val_acc: 0.8642\n",
            "\n",
            "Epoch 00034: val_acc did not improve from 0.86700\n",
            "Epoch 35/50\n",
            "Learning rate:  0.001\n",
            " - 27s - loss: 0.5174 - acc: 0.8725 - val_loss: 0.5715 - val_acc: 0.8636\n",
            "\n",
            "Epoch 00035: val_acc did not improve from 0.86700\n",
            "Epoch 36/50\n",
            "Learning rate:  0.001\n",
            " - 26s - loss: 0.5112 - acc: 0.8753 - val_loss: 0.5496 - val_acc: 0.8659\n",
            "\n",
            "Epoch 00036: val_acc did not improve from 0.86700\n",
            "Epoch 37/50\n",
            "Learning rate:  0.001\n",
            " - 26s - loss: 0.5124 - acc: 0.8749 - val_loss: 0.5365 - val_acc: 0.8711\n",
            "\n",
            "Epoch 00037: val_acc improved from 0.86700 to 0.87110, saving model to /content/saved_models/cifar10_ResNet14v1_model.037.h5\n",
            "Epoch 38/50\n",
            "Learning rate:  0.001\n",
            " - 26s - loss: 0.5117 - acc: 0.8741 - val_loss: 0.5525 - val_acc: 0.8641\n",
            "\n",
            "Epoch 00038: val_acc did not improve from 0.87110\n",
            "Epoch 39/50\n",
            "Learning rate:  0.001\n",
            " - 26s - loss: 0.5062 - acc: 0.8788 - val_loss: 0.5368 - val_acc: 0.8728\n",
            "\n",
            "Epoch 00039: val_acc improved from 0.87110 to 0.87280, saving model to /content/saved_models/cifar10_ResNet14v1_model.039.h5\n",
            "Epoch 40/50\n",
            "Learning rate:  0.001\n",
            " - 26s - loss: 0.5018 - acc: 0.8793 - val_loss: 0.5479 - val_acc: 0.8717\n",
            "\n",
            "Epoch 00040: val_acc did not improve from 0.87280\n",
            "Epoch 41/50\n",
            "Learning rate:  0.001\n",
            " - 26s - loss: 0.5037 - acc: 0.8787 - val_loss: 0.5274 - val_acc: 0.8762\n",
            "\n",
            "Epoch 00041: val_acc improved from 0.87280 to 0.87620, saving model to /content/saved_models/cifar10_ResNet14v1_model.041.h5\n",
            "Epoch 42/50\n",
            "Learning rate:  0.001\n",
            " - 27s - loss: 0.5016 - acc: 0.8787 - val_loss: 0.5244 - val_acc: 0.8784\n",
            "\n",
            "Epoch 00042: val_acc improved from 0.87620 to 0.87840, saving model to /content/saved_models/cifar10_ResNet14v1_model.042.h5\n",
            "Epoch 43/50\n",
            "Learning rate:  0.001\n",
            " - 26s - loss: 0.4951 - acc: 0.8798 - val_loss: 0.5201 - val_acc: 0.8820\n",
            "\n",
            "Epoch 00043: val_acc improved from 0.87840 to 0.88200, saving model to /content/saved_models/cifar10_ResNet14v1_model.043.h5\n",
            "Epoch 44/50\n",
            "Learning rate:  0.001\n",
            " - 26s - loss: 0.4988 - acc: 0.8807 - val_loss: 0.5169 - val_acc: 0.8795\n",
            "\n",
            "Epoch 00044: val_acc did not improve from 0.88200\n",
            "Epoch 45/50\n",
            "Learning rate:  0.001\n",
            " - 26s - loss: 0.4927 - acc: 0.8835 - val_loss: 0.5253 - val_acc: 0.8772\n",
            "\n",
            "Epoch 00045: val_acc did not improve from 0.88200\n",
            "Epoch 46/50\n",
            "Learning rate:  0.001\n",
            " - 27s - loss: 0.4884 - acc: 0.8830 - val_loss: 0.5480 - val_acc: 0.8700\n",
            "\n",
            "Epoch 00046: val_acc did not improve from 0.88200\n",
            "Epoch 47/50\n",
            "Learning rate:  0.001\n",
            " - 27s - loss: 0.4891 - acc: 0.8835 - val_loss: 0.5567 - val_acc: 0.8672\n",
            "\n",
            "Epoch 00047: val_acc did not improve from 0.88200\n",
            "Epoch 48/50\n",
            "Learning rate:  0.001\n",
            " - 27s - loss: 0.4889 - acc: 0.8853 - val_loss: 0.5115 - val_acc: 0.8822\n",
            "\n",
            "Epoch 00048: val_acc improved from 0.88200 to 0.88220, saving model to /content/saved_models/cifar10_ResNet14v1_model.048.h5\n",
            "Epoch 49/50\n",
            "Learning rate:  0.001\n",
            " - 26s - loss: 0.4869 - acc: 0.8846 - val_loss: 0.5446 - val_acc: 0.8719\n",
            "\n",
            "Epoch 00049: val_acc did not improve from 0.88220\n",
            "Epoch 50/50\n",
            "Learning rate:  0.001\n",
            " - 26s - loss: 0.4834 - acc: 0.8850 - val_loss: 0.5275 - val_acc: 0.8777\n",
            "\n",
            "Epoch 00050: val_acc did not improve from 0.88220\n",
            "10000/10000 [==============================] - 1s 131us/step\n",
            "Test loss: 0.5274704926013947\n",
            "Test accuracy: 0.8777\n"
          ],
          "name": "stdout"
        }
      ]
    },
    {
      "cell_type": "markdown",
      "metadata": {
        "id": "bPGgZ4B_VyS5",
        "colab_type": "text"
      },
      "source": [
        "# GradCam"
      ]
    },
    {
      "cell_type": "code",
      "metadata": {
        "id": "BX68AZzS4y1v",
        "colab_type": "code",
        "outputId": "610ac3bd-d698-418f-ba18-2f57565a1a0d",
        "colab": {
          "base_uri": "https://localhost:8080/",
          "height": 850
        }
      },
      "source": [
        "(x_train_v, y_train_v), (x_test_v, y_test_v) = cifar10.load_data()\n",
        "print(x_train_v[0])\n",
        "x = np.expand_dims(x_train[0], axis=0)"
      ],
      "execution_count": 20,
      "outputs": [
        {
          "output_type": "stream",
          "text": [
            "[[[ 59  62  63]\n",
            "  [ 43  46  45]\n",
            "  [ 50  48  43]\n",
            "  ...\n",
            "  [158 132 108]\n",
            "  [152 125 102]\n",
            "  [148 124 103]]\n",
            "\n",
            " [[ 16  20  20]\n",
            "  [  0   0   0]\n",
            "  [ 18   8   0]\n",
            "  ...\n",
            "  [123  88  55]\n",
            "  [119  83  50]\n",
            "  [122  87  57]]\n",
            "\n",
            " [[ 25  24  21]\n",
            "  [ 16   7   0]\n",
            "  [ 49  27   8]\n",
            "  ...\n",
            "  [118  84  50]\n",
            "  [120  84  50]\n",
            "  [109  73  42]]\n",
            "\n",
            " ...\n",
            "\n",
            " [[208 170  96]\n",
            "  [201 153  34]\n",
            "  [198 161  26]\n",
            "  ...\n",
            "  [160 133  70]\n",
            "  [ 56  31   7]\n",
            "  [ 53  34  20]]\n",
            "\n",
            " [[180 139  96]\n",
            "  [173 123  42]\n",
            "  [186 144  30]\n",
            "  ...\n",
            "  [184 148  94]\n",
            "  [ 97  62  34]\n",
            "  [ 83  53  34]]\n",
            "\n",
            " [[177 144 116]\n",
            "  [168 129  94]\n",
            "  [179 142  87]\n",
            "  ...\n",
            "  [216 184 140]\n",
            "  [151 118  84]\n",
            "  [123  92  72]]]\n"
          ],
          "name": "stdout"
        }
      ]
    },
    {
      "cell_type": "code",
      "metadata": {
        "id": "2KQ_Uira44vV",
        "colab_type": "code",
        "colab": {}
      },
      "source": [
        "import cv2\n",
        "from google.colab.patches import cv2_imshow\n",
        "import matplotlib.pyplot as plt\n",
        "%matplotlib inline"
      ],
      "execution_count": 0,
      "outputs": []
    },
    {
      "cell_type": "code",
      "metadata": {
        "id": "FTad7gBh5Bk8",
        "colab_type": "code",
        "outputId": "6ce1c186-ecf3-421d-bf9c-3ce5978c447a",
        "colab": {
          "base_uri": "https://localhost:8080/",
          "height": 51
        }
      },
      "source": [
        "preds = model.predict(x)\n",
        "class_idx = np.argmax(preds[0])\n",
        "print(class_idx)\n",
        "class_output = model.output[:, class_idx]\n",
        "last_conv_layer = model.get_layer(\"conv2d_15\")"
      ],
      "execution_count": 43,
      "outputs": [
        {
          "output_type": "stream",
          "text": [
            "6\n",
            "88\n"
          ],
          "name": "stdout"
        }
      ]
    },
    {
      "cell_type": "code",
      "metadata": {
        "id": "3UclzAd65E31",
        "colab_type": "code",
        "colab": {
          "base_uri": "https://localhost:8080/",
          "height": 85
        },
        "outputId": "676847dd-e3b9-4171-f509-e8ed2d7c67f2"
      },
      "source": [
        "grads = K.gradients(class_output, last_conv_layer.output)[0]\n",
        "print(grads.shape)\n",
        "pooled_grads = K.mean(grads, axis=(0, 1, 2))\n",
        "print(pooled_grads.shape)\n",
        "iterate = K.function([model.input], [pooled_grads, last_conv_layer.output[0]])\n",
        "\n",
        "pooled_grads_value, conv_layer_output_value = iterate([x])\n",
        "print(conv_layer_output_value.shape)\n",
        "\n",
        "last_conv_layer_num_filters = last_conv_layer.output_shape[3]\n",
        "print(last_conv_layer_num_filters)\n",
        "for i in range(last_conv_layer_num_filters):\n",
        "  conv_layer_output_value[:, :, i] *= pooled_grads_value[i]"
      ],
      "execution_count": 45,
      "outputs": [
        {
          "output_type": "stream",
          "text": [
            "(?, 8, 8, 88)\n",
            "(88,)\n",
            "(8, 8, 88)\n",
            "88\n"
          ],
          "name": "stdout"
        }
      ]
    },
    {
      "cell_type": "code",
      "metadata": {
        "id": "7QIiEhkD5Jdc",
        "colab_type": "code",
        "colab": {
          "base_uri": "https://localhost:8080/",
          "height": 51
        },
        "outputId": "d2aaa64d-7db5-4214-b5e7-79d59bd91dd9"
      },
      "source": [
        "heatmap = np.mean(conv_layer_output_value, axis = -1)\n",
        "print(conv_layer_output_value.shape)\n",
        "print(heatmap.shape)\n",
        "heatmap = np.maximum(heatmap, 0)\n",
        "heatmap /= np.max(heatmap)"
      ],
      "execution_count": 46,
      "outputs": [
        {
          "output_type": "stream",
          "text": [
            "(8, 8, 88)\n",
            "(8, 8)\n"
          ],
          "name": "stdout"
        }
      ]
    },
    {
      "cell_type": "code",
      "metadata": {
        "id": "5lN1drWv5Rbw",
        "colab_type": "code",
        "colab": {
          "base_uri": "https://localhost:8080/",
          "height": 657
        },
        "outputId": "8550e5c5-8fc2-4863-9878-0abf038c7dbc"
      },
      "source": [
        "for i in range(10):\n",
        "  img1 = x_test_v[i]\n",
        "  img1 = cv2.resize(img1, dsize=(32, 32), interpolation=cv2.INTER_CUBIC)\n",
        "  heatmap = cv2.resize(heatmap, (img1.shape[1], img1.shape[0]))\n",
        "  heatmap = np.uint8(255 * heatmap)\n",
        "  heatmap = cv2.applyColorMap(heatmap, cv2.COLORMAP_JET)\n",
        "  superimposed_img = cv2.addWeighted(img1, 0.5, heatmap, 0.5, 0)\n",
        "  cv2_imshow(img1)\n",
        "  cv2_imshow(superimposed_img)"
      ],
      "execution_count": 51,
      "outputs": [
        {
          "output_type": "display_data",
          "data": {
            "image/png": "[encoded data removed]",
            "text/plain": [
              "<PIL.Image.Image image mode=RGB size=32x32 at 0x7F57F3188C88>"
            ]
          },
          "metadata": {
            "tags": []
          }
        },
        {
          "output_type": "display_data",
          "data": {
            "image/png": "[encoded data removed]",
            "text/plain": [
              "<PIL.Image.Image image mode=RGB size=32x32 at 0x7F57F3188CC0>"
            ]
          },
          "metadata": {
            "tags": []
          }
        },
        {
          "output_type": "display_data",
          "data": {
            "image/png": "[encoded data removed]",
            "text/plain": [
              "<PIL.Image.Image image mode=RGB size=32x32 at 0x7F57F3188D30>"
            ]
          },
          "metadata": {
            "tags": []
          }
        },
        {
          "output_type": "display_data",
          "data": {
            "image/png": "[encoded data removed]",
            "text/plain": [
              "<PIL.Image.Image image mode=RGB size=32x32 at 0x7F57F3188CF8>"
            ]
          },
          "metadata": {
            "tags": []
          }
        },
        {
          "output_type": "display_data",
          "data": {
            "image/png": "[encoded data removed]",
            "text/plain": [
              "<PIL.Image.Image image mode=RGB size=32x32 at 0x7F57F3188C50>"
            ]
          },
          "metadata": {
            "tags": []
          }
        },
        {
          "output_type": "display_data",
          "data": {
            "image/png": "[encoded data removed]",
            "text/plain": [
              "<PIL.Image.Image image mode=RGB size=32x32 at 0x7F57F3188C88>"
            ]
          },
          "metadata": {
            "tags": []
          }
        },
        {
          "output_type": "display_data",
          "data": {
            "image/png": "[encoded data removed]",
            "text/plain": [
              "<PIL.Image.Image image mode=RGB size=32x32 at 0x7F57F3188CC0>"
            ]
          },
          "metadata": {
            "tags": []
          }
        },
        {
          "output_type": "display_data",
          "data": {
            "image/png": "[encoded data removed]",
            "text/plain": [
              "<PIL.Image.Image image mode=RGB size=32x32 at 0x7F57F3188D30>"
            ]
          },
          "metadata": {
            "tags": []
          }
        },
        {
          "output_type": "display_data",
          "data": {
            "image/png": "[encoded data removed]",
            "text/plain": [
              "<PIL.Image.Image image mode=RGB size=32x32 at 0x7F57F3188CF8>"
            ]
          },
          "metadata": {
            "tags": []
          }
        },
        {
          "output_type": "display_data",
          "data": {
            "image/png": "[encoded data removed]",
            "text/plain": [
              "<PIL.Image.Image image mode=RGB size=32x32 at 0x7F57F3188C50>"
            ]
          },
          "metadata": {
            "tags": []
          }
        },
        {
          "output_type": "display_data",
          "data": {
            "image/png": "[encoded data removed]",
            "text/plain": [
              "<PIL.Image.Image image mode=RGB size=32x32 at 0x7F57F3188C88>"
            ]
          },
          "metadata": {
            "tags": []
          }
        },
        {
          "output_type": "display_data",
          "data": {
            "image/png": "[encoded data removed]",
            "text/plain": [
              "<PIL.Image.Image image mode=RGB size=32x32 at 0x7F57F3188CC0>"
            ]
          },
          "metadata": {
            "tags": []
          }
        },
        {
          "output_type": "display_data",
          "data": {
            "image/png": "[encoded data removed]",
            "text/plain": [
              "<PIL.Image.Image image mode=RGB size=32x32 at 0x7F57F3188D30>"
            ]
          },
          "metadata": {
            "tags": []
          }
        },
        {
          "output_type": "display_data",
          "data": {
            "image/png": "[encoded data removed]",
            "text/plain": [
              "<PIL.Image.Image image mode=RGB size=32x32 at 0x7F57F3188CF8>"
            ]
          },
          "metadata": {
            "tags": []
          }
        },
        {
          "output_type": "display_data",
          "data": {
            "image/png": "[encoded data removed]",
            "text/plain": [
              "<PIL.Image.Image image mode=RGB size=32x32 at 0x7F57F3188C50>"
            ]
          },
          "metadata": {
            "tags": []
          }
        },
        {
          "output_type": "display_data",
          "data": {
            "image/png": "[encoded data removed]",
            "text/plain": [
              "<PIL.Image.Image image mode=RGB size=32x32 at 0x7F57F3188C88>"
            ]
          },
          "metadata": {
            "tags": []
          }
        },
        {
          "output_type": "display_data",
          "data": {
            "image/png": "[encoded data removed]",
            "text/plain": [
              "<PIL.Image.Image image mode=RGB size=32x32 at 0x7F57F3188CC0>"
            ]
          },
          "metadata": {
            "tags": []
          }
        },
        {
          "output_type": "display_data",
          "data": {
            "image/png": "[encoded data removed]",
            "text/plain": [
              "<PIL.Image.Image image mode=RGB size=32x32 at 0x7F57F3188D30>"
            ]
          },
          "metadata": {
            "tags": []
          }
        },
        {
          "output_type": "display_data",
          "data": {
            "image/png": "[encoded data removed]",
            "text/plain": [
              "<PIL.Image.Image image mode=RGB size=32x32 at 0x7F57F3188CF8>"
            ]
          },
          "metadata": {
            "tags": []
          }
        },
        {
          "output_type": "display_data",
          "data": {
            "image/png": "[encoded data removed]",
            "text/plain": [
              "<PIL.Image.Image image mode=RGB size=32x32 at 0x7F57F3188C50>"
            ]
          },
          "metadata": {
            "tags": []
          }
        }
      ]
    }
  ]
}